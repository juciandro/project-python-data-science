{
  "nbformat": 4,
  "nbformat_minor": 0,
  "metadata": {
    "colab": {
      "provenance": []
    },
    "kernelspec": {
      "name": "python3",
      "display_name": "Python 3"
    },
    "language_info": {
      "name": "python"
    }
  },
  "cells": [
    {
      "cell_type": "markdown",
      "source": [
        "# Python para Data Science\n",
        "\n",
        "Notebook para o curso de Python para Data Science publicado na plataforma da [Alura](https://www.alura.com.br/)"
      ],
      "metadata": {
        "id": "lQx6Mmv0OJyT"
      }
    },
    {
      "cell_type": "markdown",
      "source": [
        "# Introdução ao Python\n",
        "\n",
        "Vamos conhecer o Python, nosso ambiente de estudo e também faremos nosso primeiro código nessa linguagem!"
      ],
      "metadata": {
        "id": "7SiB6JIpYKmY"
      }
    },
    {
      "cell_type": "markdown",
      "source": [
        "## Google Colaboratory\n",
        "\n",
        "Já aprendemos o que é o [Python](https://www.python.org/) agora vamos aprender a utilzar o [Google Colaboratory](https://colab.research.google.com/) e programar em um notebook.\n",
        "\n",
        "Vamos testar algumas funções dessa ferramenta."
      ],
      "metadata": {
        "id": "Yugfb3fCOYY9"
      }
    },
    {
      "cell_type": "markdown",
      "source": [
        " **`>>> Use essa célula para mover <<<`**"
      ],
      "metadata": {
        "id": "2iUHQsJasJAk"
      }
    },
    {
      "cell_type": "code",
      "source": [
        "10"
      ],
      "metadata": {
        "id": "tWQp3j7S6MTX",
        "colab": {
          "base_uri": "https://localhost:8080/"
        },
        "outputId": "8633b515-5741-49dd-efab-5dc4293955a8"
      },
      "execution_count": null,
      "outputs": [
        {
          "output_type": "execute_result",
          "data": {
            "text/plain": [
              "10"
            ]
          },
          "metadata": {},
          "execution_count": 1
        }
      ]
    },
    {
      "cell_type": "markdown",
      "source": [
        "## Olá mundo!\n",
        "\n",
        "Vamso conhecer mais como funciona o ambiente interativo de um notebook. Para isso vamos executar nosso primeiro comando em Python: [`print()`](https://docs.python.org/3/library/functions.html#print)"
      ],
      "metadata": {
        "id": "aLSFP2V7XTfe"
      }
    },
    {
      "cell_type": "code",
      "source": [
        "print('Hello World')"
      ],
      "metadata": {
        "id": "5s5z5TeP6LDU",
        "colab": {
          "base_uri": "https://localhost:8080/"
        },
        "outputId": "dd100b8d-22fe-4cba-b395-980962d0331a"
      },
      "execution_count": null,
      "outputs": [
        {
          "output_type": "stream",
          "name": "stdout",
          "text": [
            "Hello World\n"
          ]
        }
      ]
    },
    {
      "cell_type": "code",
      "source": [
        "print(10)"
      ],
      "metadata": {
        "id": "tNeEkSW06K8X",
        "colab": {
          "base_uri": "https://localhost:8080/"
        },
        "outputId": "4664b80b-dffc-47e6-a8a2-c7d0357186ff"
      },
      "execution_count": null,
      "outputs": [
        {
          "output_type": "stream",
          "name": "stdout",
          "text": [
            "10\n"
          ]
        }
      ]
    },
    {
      "cell_type": "code",
      "source": [
        "print('Juciandro', 26)"
      ],
      "metadata": {
        "id": "2sKZJ-PO6K0w",
        "colab": {
          "base_uri": "https://localhost:8080/"
        },
        "outputId": "8d519db8-4b3b-462b-8c51-3a8bf65cf0e1"
      },
      "execution_count": null,
      "outputs": [
        {
          "output_type": "stream",
          "name": "stdout",
          "text": [
            "Juciandro 26\n"
          ]
        }
      ]
    },
    {
      "cell_type": "markdown",
      "source": [
        "### Exercicios 1"
      ],
      "metadata": {
        "id": "Z3TBXgLHNVe-"
      }
    },
    {
      "cell_type": "code",
      "source": [
        "#Exercicios\n",
        "#1. Imprima a frase Escola de Dados da Alura!\n",
        "print('Escola de Dados da Alura!')\n",
        "\n",
        "#2. Imprima seu nome e seu sobrenome seguindo a estrutura abaixo:\n",
        "print('Nome: Juciandro')\n",
        "print('Sobrenome: Souza')\n",
        "\n",
        "#3. Imprima o seu primeiro nome letra a letra. Por exemplo, meu nome é Mirla, então eu obtenho a seguinte saída:\n",
        "print('J')\n",
        "print('u')\n",
        "print('c')\n",
        "print('i')\n",
        "print('a')\n",
        "print('n')\n",
        "print('d')\n",
        "print('r')\n",
        "print('o')\n",
        "\n",
        "#4. Imprima o dia do seu nascimento em formato dia mês ano. Lembrando que os valores de dia e ano não podem estar entre aspas. Supondo uma data de aniversário dia 28 de fevereiro de 2003, o formato deve estar como no exemplo abaixo:\n",
        "print(28, 'fevereiro', 2003)\n",
        "\n",
        "#5. Imprima, em um único print, o atual ano que você está fazendo esse curso. O valor do ano deve ser um dado numérico e a saída do print deve ser a seguinte:\n",
        "print('Ano atual: ', 2023)"
      ],
      "metadata": {
        "colab": {
          "base_uri": "https://localhost:8080/"
        },
        "id": "7vu-_lxea2qD",
        "outputId": "1abb0d02-97ae-47a0-f700-64fadbb71fe4"
      },
      "execution_count": null,
      "outputs": [
        {
          "output_type": "stream",
          "name": "stdout",
          "text": [
            "Escola de Dados da Alura!\n",
            "Nome: Juciandro\n",
            "Sobrenome: Souza\n",
            "J\n",
            "u\n",
            "c\n",
            "i\n",
            "a\n",
            "n\n",
            "d\n",
            "r\n",
            "o\n",
            "28 fevereiro 2003\n",
            "Ano atual:  2023\n"
          ]
        }
      ]
    },
    {
      "cell_type": "markdown",
      "source": [
        "# Manipulando dados\n",
        "\n",
        "Vamos aprender sobre as variáveis no python, como elas são declaradas e utilizadas além de conhecer outros comandos dentro do Python. :D"
      ],
      "metadata": {
        "id": "iP8uWQmFYFRs"
      }
    },
    {
      "cell_type": "markdown",
      "source": [
        "## Variáveis\n",
        "\n",
        "Em Data Science nós trabalhamos com vários dados e informações, então é essencial saber trabalhar com variáveis."
      ],
      "metadata": {
        "id": "sLNVmnTbag1Z"
      }
    },
    {
      "cell_type": "markdown",
      "source": [
        "Criamos uma variável no python através da atribuição de um valor a ela.\n",
        "\n",
        "Para fazer isso, colocamos o nome da variável um sinal de igual (`=`) e o valor que queremos atribuir"
      ],
      "metadata": {
        "id": "lsCY0wahAbf6"
      }
    },
    {
      "cell_type": "code",
      "source": [
        "idade = 26"
      ],
      "metadata": {
        "id": "8J3pJghf57ZI"
      },
      "execution_count": null,
      "outputs": []
    },
    {
      "cell_type": "code",
      "source": [
        "print(idade)"
      ],
      "metadata": {
        "id": "Byehj1QR57S1"
      },
      "execution_count": null,
      "outputs": []
    },
    {
      "cell_type": "code",
      "source": [
        "idade = 27\n",
        "print(idade)"
      ],
      "metadata": {
        "id": "cMjXA8DO58Uj",
        "colab": {
          "base_uri": "https://localhost:8080/"
        },
        "outputId": "9a764537-c8ce-45fe-80ba-71f1e5907d90"
      },
      "execution_count": null,
      "outputs": [
        {
          "output_type": "stream",
          "name": "stdout",
          "text": [
            "27\n"
          ]
        }
      ]
    },
    {
      "cell_type": "code",
      "source": [
        "idade = 30\n",
        "idade"
      ],
      "metadata": {
        "id": "82qmrXyz58SD",
        "colab": {
          "base_uri": "https://localhost:8080/"
        },
        "outputId": "75467a0f-1ea9-4a16-8dfe-62a59d931ae3"
      },
      "execution_count": null,
      "outputs": [
        {
          "output_type": "execute_result",
          "data": {
            "text/plain": [
              "30"
            ]
          },
          "metadata": {},
          "execution_count": 4
        }
      ]
    },
    {
      "cell_type": "code",
      "source": [
        "nome = 'Juciandro'\n",
        "nome"
      ],
      "metadata": {
        "id": "h0QjCDb15z7-",
        "colab": {
          "base_uri": "https://localhost:8080/",
          "height": 36
        },
        "outputId": "e5dcfd7b-2342-4567-8199-2f6c48450cb9"
      },
      "execution_count": null,
      "outputs": [
        {
          "output_type": "execute_result",
          "data": {
            "text/plain": [
              "'Juciandro'"
            ],
            "application/vnd.google.colaboratory.intrinsic+json": {
              "type": "string"
            }
          },
          "metadata": {},
          "execution_count": 5
        }
      ]
    },
    {
      "cell_type": "markdown",
      "source": [
        "Nomes que **não** podemos definir para variáveis:\n",
        "\n",
        "- **Nomes que começam com números**\n",
        "  - Exemplos: `10_notas`, `2_nomes_casa`, etc.\n",
        "- **Palavras separada por espaço**\n",
        "  - Exemplos: `Nome escola`, `notas estudantes`, etc.\n",
        "- **Nomes de funções do Python**\n",
        "  - Exemplos: `print`, `type`, etc."
      ],
      "metadata": {
        "id": "om2N0jHKAzwL"
      }
    },
    {
      "cell_type": "markdown",
      "source": [
        "> Letras maiúsculas e minúsculas vão gerar diferentes variáveis. A varíavel `idade` é diferente de `Idade` que por sua vez também é diferente de `IDADE`:\n",
        "``` Python\n",
        "idade = 1\n",
        "Idade = 2\n",
        "IDADE = 3\n",
        "_idade = 4\n",
        "_idade_ = 5\n",
        "print(idade, Idade, IDADE, _idade, _idade_)\n",
        "1 2 3 4 5\n",
        "```"
      ],
      "metadata": {
        "id": "A19vY2GVMujB"
      }
    },
    {
      "cell_type": "markdown",
      "source": [
        "## Tipos de variáveis\n",
        "\n",
        "Cada variável contém uma classe especifica quanto ao tipo de objeto que ela está se referenciando. Essas classes vão ser diferentes a partir do tipo de dado que nós atribuimos a uma variável.\n",
        "\n",
        "Para saber a classe de cada elemento usamos a função [`type()`](https://docs.python.org/3/library/functions.html#type)"
      ],
      "metadata": {
        "id": "UqhzuBhBHsps"
      }
    },
    {
      "cell_type": "code",
      "source": [
        "i = 10\n",
        "type(i)"
      ],
      "metadata": {
        "id": "-tb-XRcq5v9W",
        "colab": {
          "base_uri": "https://localhost:8080/"
        },
        "outputId": "fddd86e9-3b2e-438e-ffb0-8cead13d7e79"
      },
      "execution_count": null,
      "outputs": [
        {
          "output_type": "execute_result",
          "data": {
            "text/plain": [
              "int"
            ]
          },
          "metadata": {},
          "execution_count": 6
        }
      ]
    },
    {
      "cell_type": "code",
      "source": [
        "f = 10.5\n",
        "type(f)"
      ],
      "metadata": {
        "id": "5ncn48tw5vw2",
        "colab": {
          "base_uri": "https://localhost:8080/"
        },
        "outputId": "654edb23-a3be-4b7c-9073-bc5b49aee597"
      },
      "execution_count": null,
      "outputs": [
        {
          "output_type": "execute_result",
          "data": {
            "text/plain": [
              "float"
            ]
          },
          "metadata": {},
          "execution_count": 7
        }
      ]
    },
    {
      "cell_type": "code",
      "source": [
        "s = 'Juciandro'\n",
        "type(s)"
      ],
      "metadata": {
        "id": "PURhkDrw5vpB",
        "colab": {
          "base_uri": "https://localhost:8080/"
        },
        "outputId": "c0e915f9-f17c-46d7-a4c7-595a89635293"
      },
      "execution_count": null,
      "outputs": [
        {
          "output_type": "execute_result",
          "data": {
            "text/plain": [
              "str"
            ]
          },
          "metadata": {},
          "execution_count": 8
        }
      ]
    },
    {
      "cell_type": "code",
      "source": [
        "ativado = True\n",
        "type(ativado)"
      ],
      "metadata": {
        "id": "w0XcF4MC5vhw",
        "colab": {
          "base_uri": "https://localhost:8080/"
        },
        "outputId": "86beffbc-8958-4273-b130-6661581ffe27"
      },
      "execution_count": null,
      "outputs": [
        {
          "output_type": "execute_result",
          "data": {
            "text/plain": [
              "bool"
            ]
          },
          "metadata": {},
          "execution_count": 9
        }
      ]
    },
    {
      "cell_type": "markdown",
      "source": [
        "Em um conjunto de dados escolares podemos ter vários tipos de informações. Digamos que tenhamos acesso à ficha de dados do aluno *Frabicio Daniel* como transformamos ela em variáveis no Python?\n",
        "\n",
        "#### Ficha:\n",
        "\n",
        "- Nome: Fabricio Daniel\n",
        "- Idade: 15 anos\n",
        "- Media do semestre: 8,45\n",
        "- Situação de aprovação: Verdadeira (aprovado)"
      ],
      "metadata": {
        "id": "O-FxDumfWu0C"
      }
    },
    {
      "cell_type": "code",
      "source": [
        "nome = 'Fabricio Daniel'\n",
        "idade = 15\n",
        "media = 8.45\n",
        "aprovado = True\n",
        "\n",
        "print(nome, idade, media, aprovado)"
      ],
      "metadata": {
        "id": "xZ3Exi2L5ozi",
        "colab": {
          "base_uri": "https://localhost:8080/"
        },
        "outputId": "21b5ab68-d231-460f-b3dc-3672d0641305"
      },
      "execution_count": null,
      "outputs": [
        {
          "output_type": "stream",
          "name": "stdout",
          "text": [
            "Fabricio Daniel 15 8.45 True\n"
          ]
        }
      ]
    },
    {
      "cell_type": "markdown",
      "source": [
        "## Variáveis numéricas\n",
        "\n",
        "Entre os tipos de dados numéricos vamos nos focar no tipo `inteiro` e `float`."
      ],
      "metadata": {
        "id": "KFq_8Sxf-OG0"
      }
    },
    {
      "cell_type": "markdown",
      "source": [
        "Temos uma tabela de informação de empregos quanto ao cargo, quantidade de pessoas empregadas e o salário correspondente:\n",
        "\n",
        "|Cargo | Quantidade | Salário|\n",
        "|---|---|---|\n",
        "|Segurança | 5 | 3000 |\n",
        "|Docente | 16| 6000|\n",
        "|Diretoria| 1 |12500|\n",
        "\n",
        "Precisamos trabalhar com esses dados fornecendo:\n",
        "\n",
        "- A quantidade total de empregados;\n",
        "- A diferença entre o salário mais baixo e mais alto; e\n",
        "- A média ponderada da faixa salarial da escola."
      ],
      "metadata": {
        "id": "8_HYUbkVYdQY"
      }
    },
    {
      "cell_type": "code",
      "source": [
        "q_seguranca = 5\n",
        "s_seguranca = 3000\n",
        "\n",
        "q_docente = 16\n",
        "s_docente = 6000\n",
        "\n",
        "q_diretoria = 1\n",
        "s_diretoria = 12500"
      ],
      "metadata": {
        "id": "xJIq5MRRZAlj"
      },
      "execution_count": null,
      "outputs": []
    },
    {
      "cell_type": "code",
      "source": [
        "t_empregados = q_seguranca + q_docente + q_diretoria\n",
        "t_empregados"
      ],
      "metadata": {
        "id": "pIgt-k6T5WpB",
        "colab": {
          "base_uri": "https://localhost:8080/"
        },
        "outputId": "10f4df81-f71f-4373-d592-6c7a07abbc86"
      },
      "execution_count": null,
      "outputs": [
        {
          "output_type": "execute_result",
          "data": {
            "text/plain": [
              "22"
            ]
          },
          "metadata": {},
          "execution_count": 12
        }
      ]
    },
    {
      "cell_type": "code",
      "source": [
        "diferenca_salrios = s_diretoria - s_seguranca\n",
        "diferenca_salrios"
      ],
      "metadata": {
        "id": "bL9uGHvp5We5",
        "colab": {
          "base_uri": "https://localhost:8080/"
        },
        "outputId": "e19e3cdc-951f-480d-bf55-35ad902f951d"
      },
      "execution_count": null,
      "outputs": [
        {
          "output_type": "execute_result",
          "data": {
            "text/plain": [
              "9500"
            ]
          },
          "metadata": {},
          "execution_count": 14
        }
      ]
    },
    {
      "cell_type": "code",
      "source": [
        "media_salarial = (s_seguranca * q_seguranca + s_docente * q_docente + s_diretoria * q_diretoria)/t_empregados\n",
        "media_salarial"
      ],
      "metadata": {
        "id": "GpTS_c8_5WX_",
        "colab": {
          "base_uri": "https://localhost:8080/"
        },
        "outputId": "e40c5f6e-57fd-4376-951c-9db6b6040416"
      },
      "execution_count": null,
      "outputs": [
        {
          "output_type": "execute_result",
          "data": {
            "text/plain": [
              "5613.636363636364"
            ]
          },
          "metadata": {},
          "execution_count": 15
        }
      ]
    },
    {
      "cell_type": "markdown",
      "source": [
        "## Strings"
      ],
      "metadata": {
        "id": "yQy7b0ZWoD-P"
      }
    },
    {
      "cell_type": "markdown",
      "source": [
        "Strings são caracterizada por ter um conjunto de caracteres formando um texto.\n",
        "\n",
        "Strigs podem ser criadas ao atribuirmos a uma variável um dado que esteja entre aspas simples (`'`) ou aspas duplas (`\"`)"
      ],
      "metadata": {
        "id": "vlo2-DXusv3s"
      }
    },
    {
      "cell_type": "code",
      "source": [
        "aluno = 'Juciandro Souza'\n",
        "aluno"
      ],
      "metadata": {
        "id": "SSinaAb15FWn",
        "colab": {
          "base_uri": "https://localhost:8080/",
          "height": 36
        },
        "outputId": "067c6167-fc3a-405b-bfbf-fcf33b0e8504"
      },
      "execution_count": null,
      "outputs": [
        {
          "output_type": "execute_result",
          "data": {
            "text/plain": [
              "'Juciandro Souza'"
            ],
            "application/vnd.google.colaboratory.intrinsic+json": {
              "type": "string"
            }
          },
          "metadata": {},
          "execution_count": 16
        }
      ]
    },
    {
      "cell_type": "markdown",
      "source": [
        "As variáveis textuais contém vários métodos que nos ajudam a formatar strings. Métódos podem ser executados ao definirmos um objeto seguindo a seguinte estrutura:\n",
        "\n",
        "```\n",
        "objeto.metodo()\n",
        "```\n",
        "\n",
        "Existem métodos que não necessitam dos `()`, é preciso verificar a documentação de cada caso."
      ],
      "metadata": {
        "id": "2e9UD_CCxqz_"
      }
    },
    {
      "cell_type": "markdown",
      "source": [
        "---\n",
        "**Situação:**\n",
        "\n",
        "Recebemos uma variável com o nome de uma professora da escola para inserimos no cadastro. No entanto, precisamos tratar esse texto antes de inserirmos no sistema"
      ],
      "metadata": {
        "id": "p6aPmMGP4tf9"
      }
    },
    {
      "cell_type": "code",
      "source": [
        "texto = '  Geovana Alessandra dias Sanyos '"
      ],
      "metadata": {
        "id": "4tkS8Iit1Ccg"
      },
      "execution_count": null,
      "outputs": []
    },
    {
      "cell_type": "markdown",
      "source": [
        "O objetivo final é que o nome esteja da seguinte forma:\n",
        "\n",
        "```\n",
        "'GEOVANA ALESSANDRA DIAS SANTOS'\n",
        "```"
      ],
      "metadata": {
        "id": "Dg2ZXSZOGzjC"
      }
    },
    {
      "cell_type": "markdown",
      "source": [
        "### [`str.upper()` ](https://docs.python.org/3/library/stdtypes.html#str.upper)\n",
        "Converte uma string para maiúsculas"
      ],
      "metadata": {
        "id": "iVTAD8q702eN"
      }
    },
    {
      "cell_type": "code",
      "source": [
        "texto.upper()"
      ],
      "metadata": {
        "id": "sWMt1iWW5LdN",
        "colab": {
          "base_uri": "https://localhost:8080/",
          "height": 36
        },
        "outputId": "378c799b-0bd9-4324-ccbf-38202b58c73b"
      },
      "execution_count": null,
      "outputs": [
        {
          "output_type": "execute_result",
          "data": {
            "text/plain": [
              "'  GEOVANA ALESSANDRA DIAS SANYOS '"
            ],
            "application/vnd.google.colaboratory.intrinsic+json": {
              "type": "string"
            }
          },
          "metadata": {},
          "execution_count": 20
        }
      ]
    },
    {
      "cell_type": "markdown",
      "source": [
        "### [`str.lower()`](https://docs.python.org/3/library/stdtypes.html#str.lower)\n",
        "Método converte uma string para minúsculas."
      ],
      "metadata": {
        "id": "hbDSBtMV1TpG"
      }
    },
    {
      "cell_type": "code",
      "source": [
        "texto.lower()"
      ],
      "metadata": {
        "id": "ypSOC5WR5MTi",
        "colab": {
          "base_uri": "https://localhost:8080/",
          "height": 36
        },
        "outputId": "77a67e22-5f56-4a39-bbda-44ddb14c86b1"
      },
      "execution_count": null,
      "outputs": [
        {
          "output_type": "execute_result",
          "data": {
            "text/plain": [
              "'  geovana alessandra dias sanyos '"
            ],
            "application/vnd.google.colaboratory.intrinsic+json": {
              "type": "string"
            }
          },
          "metadata": {},
          "execution_count": 21
        }
      ]
    },
    {
      "cell_type": "markdown",
      "source": [
        "### [`str.strip()`](https://docs.python.org/3/library/stdtypes.html#str.strip)\n",
        "Método remove os espaços em branco do início e do fim de uma string."
      ],
      "metadata": {
        "id": "kz47eWM11gii"
      }
    },
    {
      "cell_type": "code",
      "source": [
        "texto.strip()"
      ],
      "metadata": {
        "id": "Xys25o1N5NKD",
        "colab": {
          "base_uri": "https://localhost:8080/",
          "height": 36
        },
        "outputId": "4d8798b4-a658-43da-d40d-5c1a80dbe921"
      },
      "execution_count": null,
      "outputs": [
        {
          "output_type": "execute_result",
          "data": {
            "text/plain": [
              "'Geovana Alessandra dias Sanyos'"
            ],
            "application/vnd.google.colaboratory.intrinsic+json": {
              "type": "string"
            }
          },
          "metadata": {},
          "execution_count": 22
        }
      ]
    },
    {
      "cell_type": "markdown",
      "source": [
        "### [`str.replace(antigo, novo)`](https://docs.python.org/3/library/stdtypes.html#str.replace)\n",
        "\n",
        "Método substitui todas as ocorrências do texto \"antigo\" na string por \"novo\""
      ],
      "metadata": {
        "id": "m6notiyS1SCV"
      }
    },
    {
      "cell_type": "code",
      "source": [
        "texto.replace('y', 't').strip()"
      ],
      "metadata": {
        "id": "oY2mU2Id5OcO",
        "colab": {
          "base_uri": "https://localhost:8080/",
          "height": 36
        },
        "outputId": "40147348-6337-4419-ed03-07df49f10d4c"
      },
      "execution_count": null,
      "outputs": [
        {
          "output_type": "execute_result",
          "data": {
            "text/plain": [
              "'Geovana Alessandra dias Santos'"
            ],
            "application/vnd.google.colaboratory.intrinsic+json": {
              "type": "string"
            }
          },
          "metadata": {},
          "execution_count": 28
        }
      ]
    },
    {
      "cell_type": "markdown",
      "source": [
        "### Observações\n",
        "\n",
        "1. Os métodos retornam uma **tranformação**, não a executam no texto!\n",
        "\n",
        "2. Além disso, podemos acumular a execução de métodos."
      ],
      "metadata": {
        "id": "zukvEjhG2Rcn"
      }
    },
    {
      "cell_type": "code",
      "source": [
        "texto"
      ],
      "metadata": {
        "id": "Q6O5y20u5PQk",
        "colab": {
          "base_uri": "https://localhost:8080/",
          "height": 36
        },
        "outputId": "2f154cb4-da2f-48e6-f75e-5810126fa2d3"
      },
      "execution_count": null,
      "outputs": [
        {
          "output_type": "execute_result",
          "data": {
            "text/plain": [
              "'  Geovana Alessandra dias Sanyos '"
            ],
            "application/vnd.google.colaboratory.intrinsic+json": {
              "type": "string"
            }
          },
          "metadata": {},
          "execution_count": 25
        }
      ]
    },
    {
      "cell_type": "markdown",
      "source": [
        "Para que seja executada a transformação nós podemos atribuir às saídas das transformações à variável"
      ],
      "metadata": {
        "id": "1KbwfVut2h6I"
      }
    },
    {
      "cell_type": "code",
      "source": [
        "novo_texto = texto.strip().replace('y', 't').upper()\n",
        "novo_texto"
      ],
      "metadata": {
        "id": "W6DiHv2H5Tq-",
        "colab": {
          "base_uri": "https://localhost:8080/",
          "height": 36
        },
        "outputId": "8c1d8bb9-bee7-4ef8-fc95-b721be6cfb08"
      },
      "execution_count": null,
      "outputs": [
        {
          "output_type": "execute_result",
          "data": {
            "text/plain": [
              "'GEOVANA ALESSANDRA DIAS SANTOS'"
            ],
            "application/vnd.google.colaboratory.intrinsic+json": {
              "type": "string"
            }
          },
          "metadata": {},
          "execution_count": 30
        }
      ]
    },
    {
      "cell_type": "markdown",
      "source": [
        "## Coletando dados\n",
        "\n",
        "Em algumas aplicações precisamos coletar valores da pessoa usuária do nosso projeto. Em python conseguimos coletar dados de usuário através do comando [`input()`](https://docs.python.org/3/library/functions.html#input).\n",
        "\n",
        "Para fazer essa coleta podemos atribuir essa função à uma variável."
      ],
      "metadata": {
        "id": "0h9Fh5G9kHCa"
      }
    },
    {
      "cell_type": "code",
      "source": [
        "nome = input('Digite seu nome: ')\n",
        "idade = int(input('Digite sua idade: '))"
      ],
      "metadata": {
        "id": "iEJyxhIj41id",
        "colab": {
          "base_uri": "https://localhost:8080/"
        },
        "outputId": "21f52a00-5dab-4dff-ea1d-d24780af1e8d"
      },
      "execution_count": null,
      "outputs": [
        {
          "name": "stdout",
          "output_type": "stream",
          "text": [
            "Digite seu nome: Henry\n",
            "Digite sua idade: 3\n"
          ]
        }
      ]
    },
    {
      "cell_type": "code",
      "source": [
        "print(f'Seu nome é {nome} e tem {idade} anos')\n",
        "print('Tipo nome: ', type(nome))\n",
        "print('Tipo idade: ', type(idade))"
      ],
      "metadata": {
        "id": "MoMXzZkC41Ze",
        "colab": {
          "base_uri": "https://localhost:8080/"
        },
        "outputId": "a33aaa29-0cbf-4009-9846-fa73e721c7ed"
      },
      "execution_count": null,
      "outputs": [
        {
          "output_type": "stream",
          "name": "stdout",
          "text": [
            "Seu nome é Henry e tem 3 anos\n",
            "Tipo nome:  <class 'str'>\n",
            "Tipo idade:  <class 'int'>\n"
          ]
        }
      ]
    },
    {
      "cell_type": "markdown",
      "source": [
        "O retorno desse comando sempre será uma *string*. Isso quer dizer que mesmo que façamos uma coleta de algo que deva ser numérico, ele será uma string.\n",
        "\n",
        "Então, será preciso **converter o resultado caso não seja desejável obter uma string**."
      ],
      "metadata": {
        "id": "7z7hcLCk_aCY"
      }
    },
    {
      "cell_type": "markdown",
      "source": [
        "Existem funções para conversão de valores:\n",
        "\n",
        "- Inteiros: [`int(dado_para_conversao)`](https://docs.python.org/3/library/functions.html#int)\n",
        "- Float: [`float(dado_para_conversao)`](https://docs.python.org/3/library/functions.html#float)\n",
        "- String: [`str(dado_para_conversao)`](https://docs.python.org/3/library/functions.html#func-str)\n",
        "- Booleano: [`bool(dado_para_conversao)`](https://docs.python.org/3/library/functions.html#bool)"
      ],
      "metadata": {
        "id": "TOlegATj1Jfp"
      }
    },
    {
      "cell_type": "code",
      "source": [
        "ano_entrada = input('Escreva o ano de ingresso do(a) estudante: ')"
      ],
      "metadata": {
        "id": "MQRu7y9646S9",
        "colab": {
          "base_uri": "https://localhost:8080/"
        },
        "outputId": "307df052-5b2c-4d68-d19f-ee7803fb0103"
      },
      "execution_count": null,
      "outputs": [
        {
          "name": "stdout",
          "output_type": "stream",
          "text": [
            "Escreva o ano de ingresso do(a) estudante: 2024\n"
          ]
        }
      ]
    },
    {
      "cell_type": "code",
      "source": [
        "type(ano_entrada)"
      ],
      "metadata": {
        "id": "FwezgXQA48VF",
        "colab": {
          "base_uri": "https://localhost:8080/"
        },
        "outputId": "2256c59e-8141-4668-a057-30b9f03f1106"
      },
      "execution_count": null,
      "outputs": [
        {
          "output_type": "execute_result",
          "data": {
            "text/plain": [
              "str"
            ]
          },
          "metadata": {},
          "execution_count": 42
        }
      ]
    },
    {
      "cell_type": "code",
      "source": [
        "ano_entrada = int(input('Escreva o ano de ingresso do(a) estudante: '))"
      ],
      "metadata": {
        "id": "bbRqzmOJ49Q1",
        "colab": {
          "base_uri": "https://localhost:8080/"
        },
        "outputId": "10b88fb8-bde4-43d9-9756-ccd7a7da26ad"
      },
      "execution_count": null,
      "outputs": [
        {
          "name": "stdout",
          "output_type": "stream",
          "text": [
            "Escreva o ano de ingresso do(a) estudante: 2024\n"
          ]
        }
      ]
    },
    {
      "cell_type": "code",
      "source": [
        "type(ano_entrada)"
      ],
      "metadata": {
        "id": "nu5xycbG4-X1",
        "colab": {
          "base_uri": "https://localhost:8080/"
        },
        "outputId": "35e88fdf-18db-4da3-ff2a-879d83db1dbb"
      },
      "execution_count": null,
      "outputs": [
        {
          "output_type": "execute_result",
          "data": {
            "text/plain": [
              "int"
            ]
          },
          "metadata": {},
          "execution_count": 44
        }
      ]
    },
    {
      "cell_type": "markdown",
      "source": [
        "Buscaremos apresentar melhor agora o resultado que obtivemos da transformação. Nós conseguimos formatar e apresentar o nosso resultado misturando strings com valores não textuais.\n",
        "\n",
        "Para fazer isso usamos a estrutura de formatação `f` com strings."
      ],
      "metadata": {
        "id": "yNI2-XTbB3aS"
      }
    },
    {
      "cell_type": "code",
      "source": [
        "nota_entrada = float(input('Digite a nota do teste de ingresso: '))"
      ],
      "metadata": {
        "id": "b1eYnEX-4wXz",
        "colab": {
          "base_uri": "https://localhost:8080/"
        },
        "outputId": "54502ed9-6c9b-42b9-bac7-e84fc0552131"
      },
      "execution_count": null,
      "outputs": [
        {
          "name": "stdout",
          "output_type": "stream",
          "text": [
            "Digite a nota do teste de ingresso: 9.9\n"
          ]
        }
      ]
    },
    {
      "cell_type": "code",
      "source": [
        "type(nota_entrada)"
      ],
      "metadata": {
        "colab": {
          "base_uri": "https://localhost:8080/"
        },
        "id": "sIH33sLQM8e5",
        "outputId": "31c932e3-aa1c-4464-8d0c-3a8d012a9c3b"
      },
      "execution_count": null,
      "outputs": [
        {
          "output_type": "execute_result",
          "data": {
            "text/plain": [
              "float"
            ]
          },
          "metadata": {},
          "execution_count": 49
        }
      ]
    },
    {
      "cell_type": "code",
      "source": [
        "print(f'Ano entrada {ano_entrada} - Nota do teste {nota_entrada}')"
      ],
      "metadata": {
        "colab": {
          "base_uri": "https://localhost:8080/"
        },
        "id": "F63tMIA6Nz5I",
        "outputId": "1841739c-49f9-469f-c62f-94f87e1ab495"
      },
      "execution_count": null,
      "outputs": [
        {
          "output_type": "stream",
          "name": "stdout",
          "text": [
            "Ano entrada 2024 - Nota do teste 9.9\n"
          ]
        }
      ]
    },
    {
      "cell_type": "markdown",
      "source": [
        "### Exercicios 2"
      ],
      "metadata": {
        "id": "wy3d_hqmNiMo"
      }
    },
    {
      "cell_type": "code",
      "source": [
        "#1) Podemos solicitar o nome com a função input e atribuir o resultado da saída a uma variável. Na sequência, podemos imprimir o resultado da variável na função print usando a formatação f-string.\n",
        "\n",
        "nome = input('Digite seu nome: ')\n",
        "print(f'Olá, {nome}.')\n",
        "\n",
        "#2) Podemos solicitar o nome e a idade com a função input e atribuir o resultado da saída a uma variável. No caso da idade, é necessária uma conversão da saída do input para um valor inteiro com a função int(). Em seguida, podemos imprimir o resultado das coletas na função print usando a formatação f-string.\n",
        "\n",
        "nome = input('Digite seu nome: ')\n",
        "idade = int(input('Digite sua idade: '))\n",
        "print(f'Olá {nome}, você tem {idade} anos.')\n",
        "\n",
        "#3) Podemos solicitar o nome, a idade e a altura com a função input e atribuir o resultado da saída a uma variável. No caso da idade, é necessária uma conversão da saída do input para um valor inteiro com a função int(). Já para a altura, é preciso realizar uma conversão para o valor de tipo float com a função float(). Em seguida, podemos imprimir o resultado das coletas na função print usando a formatação f-string.\n",
        "\n",
        "nome = input('Digite seu nome: ')\n",
        "idade = int(input('Digite sua idade: '))\n",
        "altura = float(input('Digite sua altura: '))\n",
        "print(f'Olá {nome}, você tem {idade} anos e mede {altura} metros!')\n",
        "\n",
        "#1) Podemos coletar os dois valores com input e converter a saída para um inteiro com a função int(). Com o print, é possível mostrar o resultado da soma entre as duas entradas com +.\n",
        "\n",
        "a = int(input('Digite o primeiro valor: '))\n",
        "b = int(input('Digite o segundo valor: '))\n",
        "print(a+b)\n",
        "\n",
        "#2) Usando a mesma lógica da questão anterior, podemos coletar os três valores com input e converter a saída para um inteiro com a função int(). Com o print, é possível mostrar o resultado da soma entre as três entradas com +.\n",
        "\n",
        "a = int(input('Digite o primeiro valor: '))\n",
        "b = int(input('Digite o segundo valor: '))\n",
        "c = int(input('Digite o terceiro valor: '))\n",
        "print(a+b+c)\n",
        "\n",
        "#3) Podemos coletar os dois valores com input e converter a saída para um inteiro com a função int(). Com o print, é possível mostrar o resultado da subtração entre as duas entradas com -.\n",
        "\n",
        "a = int(input('Digite o primeiro valor: '))\n",
        "b = int(input('Digite o segundo valor: '))\n",
        "print(a-b)\n",
        "\n",
        "#4) Podemos coletar os dois valores com input e converter a saída para um inteiro com a função int(). Com o print, é possível mostrar o resultado da multiplicação entre as duas entradas com *.\n",
        "\n",
        "a = int(input('Digite o primeiro valor: '))\n",
        "b = int(input('Digite o segundo valor: '))\n",
        "print(a*b)\n",
        "\n",
        "#5) Podemos coletar o numerador e denominador com input e converter a saída para um inteiro com a função int(). Com o print, é possível mostrar o resultado da divisão entre as duas entradas com /.\n",
        "\n",
        "numerador = int(input('Digite o numerador: '))\n",
        "denominador = int(input('Digite o denominador (OBS: o valor não pode ser nulo): '))\n",
        "print(numerador/denominador)\n",
        "\n",
        "#6) Podemos coletar o operador e potência com input e converter a saída para um inteiro com a função int(). Com o print, é possível mostrar o resultado da exponenciação com **.\n",
        "\n",
        "operador = int(input('Digite o operador valor: '))\n",
        "potencia = int(input('Digite a potência valor: '))\n",
        "print(operador**potencia)\n",
        "\n",
        "#7) Podemos coletar o numerador e denominador com input e converter a saída para um inteiro com a função int(). Com o print, é possível mostrar o resultado da divisão inteira entre as duas entradas com //.\n",
        "\n",
        "numerador = int(input('Digite o numerador: '))\n",
        "denominador = int(input('Digite o denominador (OBS: o valor não pode ser nulo): '))\n",
        "print(numerador//denominador)\n",
        "\n",
        "#8) Podemos coletar o numerador e denominador com input e converter a saída para um inteiro com a função int(). Com o print, é possível mostrar o resultado do resto da divisão entre as duas entradas com %.\n",
        "\n",
        "numerador = int(input('Digite o numerador: '))\n",
        "denominador = int(input('Digite o denominador (OBS: o valor não pode ser nulo): '))\n",
        "print(numerador%denominador)\n",
        "\n",
        "#9) Podemos coletar as três notas com input e converter a saída para um float com a função float(). Com o print e formatação f-string, é possível mostrar o resultado da média entre as três variáveis somando as notas com + e dividindo o valor da soma com /.\n",
        "\n",
        "nota_1 = float(input('Digite a 1° nota: '))\n",
        "nota_2 = float(input('Digite a 2° nota: '))\n",
        "nota_3 = float(input('Digite a 3° nota: '))\n",
        "print(f'Média {(nota_1+nota_2+nota_3)/3}.')\n",
        "\n",
        "#10) Calculamos a média ponderada multiplicando os pesos pelos seus respectivos valores e somando o resultado entre cada multiplicação. O valor dessas somas é dividido pela soma total dos pesos. Com o print, imprimimos o resultado do cálculo da média.\n",
        "\n",
        "media_ponderada = (5*1 + 12*2 + 20*3 + 15*4) / (1+2+3+4)\n",
        "print(f'Média {media_ponderada}.')\n",
        "\n",
        "#1) Definimos uma frase qualquer entre aspas simples e imprimimos ela inserindo a variável dentro de um print.\n",
        "\n",
        "frase = 'Olá Python!'\n",
        "print(frase)\n",
        "\n",
        "#2) Coletamos uma frase a partir da função input e imprimimos o resultado com a função print.\n",
        "\n",
        "frase = input('Digite uma frase: ')\n",
        "print(frase)\n",
        "\n",
        "#3) Coletamos uma frase a partir da função input e conseguimos mostrar seu valor em maiúsculo com o método upper. Podemos mostrar a saída dele em uma função print.\n",
        "\n",
        "frase = input('Digite uma frase: ')\n",
        "print(frase.upper())\n",
        "\n",
        "#4) Coletamos uma frase a partir da função input e conseguimos mostrar seu valor em minúsculo com o método lower. Podemos mostrar a saída dele em uma função print.\n",
        "\n",
        "frase = input('Digite uma frase: ')\n",
        "print(frase.lower())\n",
        "\n",
        "#5) Para o exemplo, é interessante definir uma frase com espaços no início e no fim da frase. Definido isso, podemos remover esses espaços com o método strip e mostramos o resultado na função print.\n",
        "\n",
        "frase = ' Olá Python!  '\n",
        "print(frase.strip())\n",
        "\n",
        "#6) Coletamos uma frase a partir da função input, mesmo não sabendo se ela terá espaços no início e no fim da frase, e podemos remover esses espaços com o método strip. O resultado pode ser exposto na função print.\n",
        "\n",
        "frase = input('Digite uma frase: ')\n",
        "print(frase.strip())\n",
        "\n",
        "#7) Coletamos uma frase a partir da função input, mesmo não sabendo se ela terá espaços no início e no fim da frase; podemos remover esses espaços com o método strip e também utilizar o método lower agrupado ao método strip. O resultado pode ser exposto na função print.\n",
        "\n",
        "frase = input('Digite uma frase: ')\n",
        "print(frase.strip().lower())\n",
        "\n",
        "#8) Coletamos uma frase a partir da função input. Para ter certeza de que os caracteres não vão estar em letras maiúsculas, podemos deixar toda a frase em letras minúsculas com o método lower e depois agrupamos o resultado da função ao método replace, definindo o valor a ser substituído como 'e' e o novo valor como 'f'. O resultado é exposto na função print.\n",
        "\n",
        "frase = input('Digite uma frase: ')\n",
        "print(frase.lower().replace('e','f'))\n",
        "\n",
        "#9) Coletamos uma frase a partir da função input. Para ter certeza de que os caracteres não vão estar em letras maiúsculas, podemos deixar toda a frase em letras minúsculas com o método lower e depois agrupamos o resultado da função ao método replace, definindo o valor a ser substituido como 'a' e o novo valor como o caractere 64 pela tabela Unicode, que corresponde ao caractere @. O resultado é exposto na função print.\n",
        "\n",
        "frase = input('Digite uma frase: ')\n",
        "print(frase.lower().replace('a',chr(64)))\n",
        "\n",
        "#10) Coletamos uma frase a partir da função input. Para ter certeza de que os caracteres não vão estar em letras maiúsculas, podemos deixar toda a frase em letras minúsculas com o método lower e depois agrupamos o resultado da função ao método replace, definindo o valor a ser substituido como 's' e o novo valor como o caractere 36 pela tabela Unicode, que corresponde ao caractere $. O resultado é exposto na função print.\n",
        "\n",
        "frase = input('Digite uma frase: ')\n",
        "print(frase.lower().replace('s',chr(36)))"
      ],
      "metadata": {
        "id": "TnrPnt34NllK"
      },
      "execution_count": null,
      "outputs": []
    },
    {
      "cell_type": "markdown",
      "source": [
        "# Estruturas condicionais"
      ],
      "metadata": {
        "id": "NwRaiHHHhhyl"
      }
    },
    {
      "cell_type": "markdown",
      "source": [
        "## `IF` e `ELSE`\n",
        "\n",
        "O `if` e `else` são duas estruturas condicionais. O `if` executará o bloco de comando caso a condição colocada for **verdadeira**. O `else` é um caso em que a condicional de `if` seja **falsa**."
      ],
      "metadata": {
        "id": "qXZqg9aYEhAh"
      }
    },
    {
      "cell_type": "markdown",
      "source": [
        "O `if` é uma palavra-chave em Python que significa \"se\". Ele é usado para formar uma estrutura condicional, que permite que você verifique se uma determinada condição é verdadeira ou falsa e, em seguida, execute um bloco de código específico dependendo do resultado da verificação. A sintaxe para usar o `if` é:\n",
        "\n",
        "\n",
        "\n",
        "```\n",
        "if condição:\n",
        "    # faça algo\n",
        "```\n",
        "\n"
      ],
      "metadata": {
        "id": "EIhlqHXd2Gil"
      }
    },
    {
      "cell_type": "code",
      "source": [
        "nota_1 = 10\n",
        "nota_2 = 10\n",
        "\n",
        "media = (nota_1 + nota_2) / 2\n",
        "\n",
        "if media >= 6:\n",
        "  print('Aprovado')\n",
        "else:\n",
        "  print('Reprovado')"
      ],
      "metadata": {
        "id": "tKtzkTXW4j73",
        "colab": {
          "base_uri": "https://localhost:8080/"
        },
        "outputId": "99ad1e5f-f3a9-4beb-d1c9-c6ae3249a502"
      },
      "execution_count": null,
      "outputs": [
        {
          "output_type": "stream",
          "name": "stdout",
          "text": [
            "Aprovado\n"
          ]
        }
      ]
    },
    {
      "cell_type": "markdown",
      "source": [
        "Já o `else` em Python é usada em conjunto com a palavra-chave `if` para formar uma estrutura condicional. A sintaxe para usar o `else` é:\n",
        "\n",
        "```\n",
        "if condição:\n",
        "  # código caso seja verdade\n",
        "else:\n",
        "  # código caso seja falso\n",
        "```\n",
        "\n",
        "O `else` é executado quando a condição verificada pelo `if` é avaliada como `False`."
      ],
      "metadata": {
        "id": "27RW2v_sIKct"
      }
    },
    {
      "cell_type": "markdown",
      "source": [
        "---\n",
        "**Situação:**\n",
        "\n",
        "Receberemos a média de estudantes e precisamos de um algoritmo que execute a análise e decida se esse estudante está **Aprovado** ou Reprovado, mostrando uma mensagem do resultado. Para ser aprovado, a média precisa ser igual ou superior à 6.0."
      ],
      "metadata": {
        "id": "BqORg85XX-Nl"
      }
    },
    {
      "cell_type": "code",
      "source": [
        "media = float(input('Digite a média: '))\n",
        "\n",
        "if media >= 6:\n",
        "  print('Aprovado')\n",
        "else:\n",
        "  print('Reprovado')"
      ],
      "metadata": {
        "id": "yaR8bt1P4iCv",
        "colab": {
          "base_uri": "https://localhost:8080/"
        },
        "outputId": "d68f28b5-062e-4b9d-9c1b-6894355bde36"
      },
      "execution_count": null,
      "outputs": [
        {
          "output_type": "stream",
          "name": "stdout",
          "text": [
            "Digite a média: 10\n",
            "Aprovado\n"
          ]
        }
      ]
    },
    {
      "cell_type": "markdown",
      "source": [
        "Agora a nossa instituição de ensino lançou uma nota oficial que pessoas que tenham média entre 4.0 e 6.0 podem fazer os cursos de **Recuperação** nas férias para poder recuperar a nota.\n",
        "\n",
        "Então podemos agora fazer um conjunto de `if`s para que possamos estruturar essa nova condição."
      ],
      "metadata": {
        "id": "bD9O17HB6LUo"
      }
    },
    {
      "cell_type": "code",
      "source": [
        "media = float(input('Digite a média: '))\n",
        "\n",
        "if media >= 6:\n",
        "  print('Aprovado')\n",
        "if 6 > media >= 4:\n",
        "  print('Recuperação')\n",
        "if media < 4 :\n",
        "  print('Reprovado')"
      ],
      "metadata": {
        "id": "Rkde8bai4gvq",
        "colab": {
          "base_uri": "https://localhost:8080/"
        },
        "outputId": "5523e4f5-bc8b-4007-c33e-aa0d7bd5e998"
      },
      "execution_count": null,
      "outputs": [
        {
          "output_type": "stream",
          "name": "stdout",
          "text": [
            "Digite a média: 3\n",
            "Reprovado\n"
          ]
        }
      ]
    },
    {
      "cell_type": "markdown",
      "source": [
        "Notemos que em casos com 3 situações como esse precisamos definir bem nossas condições. Pois foi feita uma construção com `else` no final, ele irá considerar apenas a alguma condicional para ser o caso **falso** podendo resultar em duas (ou mais) execuções.\n",
        "\n",
        "Por exemplo:"
      ],
      "metadata": {
        "id": "D5e2mByjvycO"
      }
    },
    {
      "cell_type": "code",
      "source": [
        "media = float(input('Digite a média: '))\n",
        "\n",
        "if media >= 6:\n",
        "  print('Aprovado')\n",
        "if 6 > media >= 4:\n",
        "  print('Recuperação')\n",
        "else:\n",
        "  print('Reprovado')"
      ],
      "metadata": {
        "id": "tKvjzq414fAN",
        "colab": {
          "base_uri": "https://localhost:8080/"
        },
        "outputId": "93cfe273-b5ec-4c66-d5fb-b9738c6bc43c"
      },
      "execution_count": null,
      "outputs": [
        {
          "output_type": "stream",
          "name": "stdout",
          "text": [
            "Digite a média: 10\n",
            "Aprovado\n",
            "Reprovado\n"
          ]
        }
      ]
    },
    {
      "cell_type": "markdown",
      "source": [
        "## `ELIF`\n",
        "\n",
        "O `elif` é uma palavra-chave em Python que significa \"senão, se\" e pode ser considerado uma união do `else` com um `if`. Ela é usada em conjunto com a palavra-chave `if` para formar uma estrutura condicional encadeada.\n",
        "\n"
      ],
      "metadata": {
        "id": "04T5g-7h4zWx"
      }
    },
    {
      "cell_type": "markdown",
      "source": [
        "A sintaxe para usar o `elif` é:\n",
        "\n",
        "```\n",
        "if condição1:\n",
        "    # faça algo\n",
        "elif condição2:\n",
        "    # faça outra coisa\n",
        "elif condição3:\n",
        "    # faça mais alguma coisa\n",
        "else:\n",
        "    # faça algo diferente\n",
        "```\n",
        "\n",
        "O `elif` permite que você verifique várias condições de forma encadeada, economizando espaço em seu código. Se a primeira condição for avaliada como `False`, o interpretador Python avaliará a próxima condição no `elif`. Isso continuará até que uma condição seja avaliada como `True` ou até que o `else` seja atingido. Se nenhuma das condições forem avaliadas como `True`, a execução do código do `else` será iniciada."
      ],
      "metadata": {
        "id": "rNBHr5mm1Lm6"
      }
    },
    {
      "cell_type": "markdown",
      "source": [
        "Vamos usar o mesmo caso anterior:"
      ],
      "metadata": {
        "id": "MVoykFbB4bd4"
      }
    },
    {
      "cell_type": "code",
      "source": [
        "media = float(input('Digite a média: '))\n",
        "\n",
        "if media >= 6:\n",
        "  print('Aprovado')\n",
        "elif 6 > media >= 4:\n",
        "  print('Recuperação')\n",
        "else:\n",
        "  print('Reprovado')"
      ],
      "metadata": {
        "id": "UJCHKoX54dc2",
        "colab": {
          "base_uri": "https://localhost:8080/"
        },
        "outputId": "f5d5b3b6-1cd5-43a7-a814-f1eedb284ed6"
      },
      "execution_count": null,
      "outputs": [
        {
          "output_type": "stream",
          "name": "stdout",
          "text": [
            "Digite a média: 3\n",
            "Reprovado\n"
          ]
        }
      ]
    },
    {
      "cell_type": "markdown",
      "source": [
        "## Operadores\n",
        "\n",
        "Durante a construção de comandos por vezes precisamos de uma elaboração maior de da expressão condicional, necessitando que alguns operadores lógicos estejam integrados."
      ],
      "metadata": {
        "id": "Tf1wSOem6iwZ"
      }
    },
    {
      "cell_type": "markdown",
      "source": [
        "### `AND`, `OR`, `NOT`\n",
        "\n",
        "Os operadores lógicos `and`, `or` e `not` são usados para combinar expressões lógicas em Python. Eles são usados frequentemente em conjunto com o `if` para criar estruturas condicionais mais complexas.\n"
      ],
      "metadata": {
        "id": "GFIZnRWXGPWO"
      }
    },
    {
      "cell_type": "markdown",
      "source": [
        "- `AND` é usado para verificar se duas condições são verdadeiras. A expressão lógica¹ `x and y` é avaliada como `True` apenas se **ambas as condições `x` e `y` forem verdadeiras**, e como `False` caso contrário.\n",
        "\n",
        "- `OR` é usado para verificar se pelo menos uma das condições é verdadeira. A expressão lógica `x or y` é avaliada como `True` **se pelo menos uma das condições `x` ou `y` for verdadeira**, e como `False` se ambas forem falsas.\n",
        "\n",
        "- `NOT` é usado para **negar uma condição**. A expressão lógica not x é avaliada como True se a condição x for falsa, e como False se a condição x for verdadeira.\n",
        "\n",
        "¹ Uma expressão lógica é uma declaração que pode ser avaliada como verdadeira ou falsa. Ela é composta por operandos lógicos² e operadores lógicos³, que são usados ​​para combinar várias expressões lógicas em uma única expressão.\n",
        "\n",
        "² Os operandos lógicos são os elementos que são comparados ou avaliados em uma expressão lógica. Eles são geralmente valores verdadeiros ou falsos, mas também podem ser expressões lógicas mais complexas. Em Python, os operandos lógicos são os valores `True` e `False`.\n",
        "\n",
        "³ Os operadores lógicos são os símbolos ou palavras-chave que são usados ​​para combinar várias expressões lógicas em uma única expressão. Em Python, os operadores lógicos são `and`, `or` e `not`, bem como as palavras-chave `if`, `elif` e `else`."
      ],
      "metadata": {
        "id": "Z_dgAoHXJbzB"
      }
    },
    {
      "cell_type": "code",
      "source": [
        "t1 = t2 = True\n",
        "f1 = f2 = False"
      ],
      "metadata": {
        "id": "Fs_qb0dLOXsj"
      },
      "execution_count": null,
      "outputs": []
    },
    {
      "cell_type": "code",
      "source": [
        "if t1 and t2:\n",
        "  print('expressão verdadeira')\n",
        "else:\n",
        "  print('expressão falsa')"
      ],
      "metadata": {
        "id": "kL4QVdlZ4O43",
        "colab": {
          "base_uri": "https://localhost:8080/"
        },
        "outputId": "3962ccf6-dbee-48bd-c494-4356794d7d2e"
      },
      "execution_count": null,
      "outputs": [
        {
          "output_type": "stream",
          "name": "stdout",
          "text": [
            "expressão verdadeira\n"
          ]
        }
      ]
    },
    {
      "cell_type": "code",
      "source": [
        "if t1 or f2:\n",
        "  print('expressão verdadeira')\n",
        "else:\n",
        "  print('expressão falsa')"
      ],
      "metadata": {
        "id": "JmQYjvsz4Pw5",
        "colab": {
          "base_uri": "https://localhost:8080/"
        },
        "outputId": "43a01d1e-2fdf-4f12-9496-06d303275371"
      },
      "execution_count": null,
      "outputs": [
        {
          "output_type": "stream",
          "name": "stdout",
          "text": [
            "expressão verdadeira\n"
          ]
        }
      ]
    },
    {
      "cell_type": "code",
      "source": [
        "if not f2:\n",
        "  print('expressão verdadeira')\n",
        "else:\n",
        "  print('expressão falsa')"
      ],
      "metadata": {
        "id": "WHfJ-ZLM4Q3k",
        "colab": {
          "base_uri": "https://localhost:8080/"
        },
        "outputId": "a7b84595-d6ac-4f7d-d82f-b80ec1e5f7c8"
      },
      "execution_count": null,
      "outputs": [
        {
          "output_type": "stream",
          "name": "stdout",
          "text": [
            "expressão verdadeira\n"
          ]
        }
      ]
    },
    {
      "cell_type": "markdown",
      "source": [
        "### `IN`\n",
        "\n",
        "É usado para verificar se um elemento está presente em uma lista, tupla ou outra variável de conjunto. A expressão `x in y` é avaliada como `True` se o elemento `x` estiver presente na variável de conjunto `y`, e como `False` caso contrário."
      ],
      "metadata": {
        "id": "w7EXG1dhWtja"
      }
    },
    {
      "cell_type": "markdown",
      "source": [
        "Podemos verificar isso com variáveis de texto.\n",
        "\n",
        "---\n",
        "\n",
        "**Situação:**\n",
        "\n",
        "Na escola foi passada uma lista com nomes de estudantes que foram aprovados por média no semestre, mas é preciso verificar se alguns nomes estão nessa lista para verificar se os dados estão corretos.\n",
        "\n",
        "A lista distribuida pode ser observada abaixo:\n",
        "\n",
        "```\n",
        "lista = 'José da Silva, Maria Oliveira, Pedro Martins, Ana Souza, Carlos Rodrigues, Juliana Santos, Bruno Gomes, Beatriz Costa, Felipe Almeida, Mariana Fernandes, João Pinto, Luísa Nascimento, Gabriel Souza, Manuela Santos, Thiago Oliveira, Sofia Ferreira, Rafael Albuquerque, Isabella Gomes, Bruno Costa, Maria Martins, Rafaela Souza, Matheus Fernandes, Luísa Almeida, Beatriz Pinto, Mariana Rodrigues, Gabriel Nascimento, João Ferreira, Maria Albuquerque, Felipe Oliveira\n",
        "'\n",
        "```\n",
        "\n",
        "Os nomes que precisam ser verificados são os seguintes:\n",
        "\n",
        "```\n",
        "nome_1 = 'Mariana Rodrigues'\n",
        "nome_2 = 'Marcelo Nogueira'\n",
        "```"
      ],
      "metadata": {
        "id": "enJNp6JenQbq"
      }
    },
    {
      "cell_type": "code",
      "source": [
        "lista = 'José da Silva, Maria Oliveira, Pedro Martins, Ana Souza, Carlos Rodrigues, Juliana Santos, Bruno Gomes, Beatriz Costa, Felipe Almeida, Mariana Fernandes, João Pinto, Luísa Nascimento, Gabriel Souza, Manuela Santos, Thiago Oliveira, Sofia Ferreira, Rafael Albuquerque, Isabella Gomes, Bruno Costa, Maria Martins, Rafaela Souza, Matheus Fernandes, Luísa Almeida, Beatriz Pinto, Mariana Rodrigues, Gabriel Nascimento, João Ferreira, Maria Albuquerque, Felipe Oliveira'\n",
        "lista"
      ],
      "metadata": {
        "id": "kU25ABUQ5NBe",
        "colab": {
          "base_uri": "https://localhost:8080/",
          "height": 55
        },
        "outputId": "10fbf396-e3e4-4d0e-89c4-4b3212a61c88"
      },
      "execution_count": null,
      "outputs": [
        {
          "output_type": "execute_result",
          "data": {
            "text/plain": [
              "'José da Silva, Maria Oliveira, Pedro Martins, Ana Souza, Carlos Rodrigues, Juliana Santos, Bruno Gomes, Beatriz Costa, Felipe Almeida, Mariana Fernandes, João Pinto, Luísa Nascimento, Gabriel Souza, Manuela Santos, Thiago Oliveira, Sofia Ferreira, Rafael Albuquerque, Isabella Gomes, Bruno Costa, Maria Martins, Rafaela Souza, Matheus Fernandes, Luísa Almeida, Beatriz Pinto, Mariana Rodrigues, Gabriel Nascimento, João Ferreira, Maria Albuquerque, Felipe Oliveira'"
            ],
            "application/vnd.google.colaboratory.intrinsic+json": {
              "type": "string"
            }
          },
          "metadata": {},
          "execution_count": 11
        }
      ]
    },
    {
      "cell_type": "code",
      "source": [
        "nome_1 = 'Mariana Rodrigues'\n",
        "nome_2 = 'Marcelo Nogueira'"
      ],
      "metadata": {
        "id": "GY82qLpivC6Y"
      },
      "execution_count": null,
      "outputs": []
    },
    {
      "cell_type": "code",
      "source": [
        "if nome_1 in lista:\n",
        "  print(f'{nome_1} está na lista')\n",
        "else:\n",
        "  print(f'{nome_1} não está na lista')"
      ],
      "metadata": {
        "id": "ipyXfbpb37b0",
        "colab": {
          "base_uri": "https://localhost:8080/"
        },
        "outputId": "b19bee99-f3b3-461d-d09b-53560be94c6f"
      },
      "execution_count": null,
      "outputs": [
        {
          "output_type": "stream",
          "name": "stdout",
          "text": [
            "Mariana Rodrigues está na lista\n"
          ]
        }
      ]
    },
    {
      "cell_type": "code",
      "source": [
        "if nome_2 in lista:\n",
        "  print(f'{nome_2} está na lista')\n",
        "else:\n",
        "  print(f'{nome_2} não está na lista')"
      ],
      "metadata": {
        "id": "KfXxC9A537RP",
        "colab": {
          "base_uri": "https://localhost:8080/"
        },
        "outputId": "c8beed05-0fa6-4b04-f5d0-4f353dd81887"
      },
      "execution_count": null,
      "outputs": [
        {
          "output_type": "stream",
          "name": "stdout",
          "text": [
            "Marcelo Nogueira não está na lista\n"
          ]
        }
      ]
    },
    {
      "cell_type": "markdown",
      "source": [
        "### Exercicios"
      ],
      "metadata": {
        "id": "MsIF6-pbo-q_"
      }
    },
    {
      "cell_type": "code",
      "source": [
        "#1 -\n",
        "\n",
        "# Coletar os números\n",
        "num1 = float(input('Digite o 1° número: '))\n",
        "num2 = float(input('Digite o 2° número: '))\n",
        "\n",
        "# Comparamos ambos os números e descobrimos qual é o maior\n",
        "if num1 > num2:\n",
        "    print(f'O primeiro número é maior: {num1}')\n",
        "elif num2 > num1:\n",
        "    print(f'O segundo número é maior: {num2}')\n",
        "else: # Caso os números sejam iguais\n",
        "    print('Os dois números são iguais.')\n",
        "\n",
        "#2 -\n",
        "\n",
        "# Coleta do percentual\n",
        "variacao = float(input('Digite o percentual de crescimento: '))\n",
        "\n",
        "# Verifica se o valor é positivo ou negativo com uma verificação se o número\n",
        "# é maior ou menor que 0\n",
        "if variacao > 0:\n",
        "    print(f'Houve um crescimento de {variacao}%')\n",
        "elif variacao < 0:\n",
        "    print(f'Houve um decrescimento de {variacao}%')\n",
        "else:\n",
        "    print('Não houve crescimento ou decrescimento.')\n",
        "\n",
        "#3 -\n",
        "\n",
        "# Coletamos a letra da pessoa usuária como minúscula\n",
        "letra = input('Digite uma letra: ').lower()\n",
        "vogais = 'aeiou' # string contendo todos os dados\n",
        "\n",
        "# Verificamos se a letra está nas vogais com in\n",
        "if letra in vogais:\n",
        "    print('A letra é uma vogal.')\n",
        "else:\n",
        "    print('A letra é uma consoante.')\n",
        "\n",
        "#4 -\n",
        "\n",
        "# Coletamos os preços dos 3 anos\n",
        "preco_ano1 = float(input('Informe o preço médio do carro no primeiro ano: '))\n",
        "preco_ano2 = float(input('Informe o preço médio do carro no segundo ano: '))\n",
        "preco_ano3 = float(input('Informe o preço médio do carro no terceiro ano: '))\n",
        "\n",
        "# Determinamos o maior valor através de comparações\n",
        "maior = preco_ano1\n",
        "if preco_ano2 > maior:\n",
        "  maior = preco_ano2\n",
        "if preco_ano3 > maior:\n",
        "  maior = preco_ano3\n",
        "\n",
        "# Determinamos o menor valor através de comparações\n",
        "menor = preco_ano1\n",
        "if preco_ano2 < menor:\n",
        "  menor = preco_ano2\n",
        "if preco_ano3 < menor:\n",
        "  menor = preco_ano3\n",
        "\n",
        "# Mostramos o resultado\n",
        "print(f'O preço mais alto foi de R$ {maior}.')\n",
        "print(f'O preço mais baixo foi de R$ {menor}.')\n",
        "\n",
        "#5 -\n",
        "\n",
        "# Coletamos os preços dos três produtos\n",
        "p1 = float(input('Digite o preço do primeiro produto: '))\n",
        "p2 = float(input('Digite o preço do segundo produto: '))\n",
        "p3 = float(input('Digite o preço do terceiro produto: '))\n",
        "\n",
        "# Verificamos qual produto é o mais barato usando o operador lógico 'and'\n",
        "if p1 < p2 and p1 < p3:\n",
        "    print('O primeiro produto é o mais barato.')\n",
        "elif p2 < p1 and p2 < p3:\n",
        "    print('O segundo produto é o mais barato.')\n",
        "elif p3 < p1 and p3 < p2:\n",
        "    print('O terceiro produto é o mais barato.')\n",
        "elif p1 == p2 == p3:\n",
        "    print('Os produtos possuem o mesmo preço.')\n",
        "else:\n",
        "    # Identificamos quais produtos possuem o mesmo preço, se for o caso\n",
        "    if p1 == p2:\n",
        "        print('O primeiro e o segundo produtos são os mais baratos.')\n",
        "    elif p2 == p3:\n",
        "        print('O segundo e terceiro produtos são os mais baratos.')\n",
        "    elif p1 == p3:\n",
        "        print('O primeiro e o terceiro produtos são os mais baratos.')\n",
        "\n",
        "#6 -\n",
        "\n",
        "# Coletamos os 3 números\n",
        "num1 = int(input('Informe o primeiro número: '))\n",
        "num2 = int(input('Informe o segundo número: '))\n",
        "num3 = int(input('Informe o terceiro número: '))\n",
        "\n",
        "# Comparação entre os 3 números\n",
        "if (num1 >= num2) and (num1 >= num3):\n",
        "    print(num1)\n",
        "    if num2 >= num3:\n",
        "        print(num2)\n",
        "        print(num3)\n",
        "    else:\n",
        "        print(num3)\n",
        "        print(num2)\n",
        "elif (num2 >= num1) and (num2 >= num3):\n",
        "    print(num2)\n",
        "    if num1 >= num3:\n",
        "        print(num1)\n",
        "        print(num3)\n",
        "    else:\n",
        "        print(num3)\n",
        "        print(num1)\n",
        "else:\n",
        "    print(num3)\n",
        "    if num1 >= num2:\n",
        "        print(num1)\n",
        "        print(num2)\n",
        "    else:\n",
        "        print(num2)\n",
        "        print(num1)\n",
        "\n",
        "#7 -\n",
        "\n",
        "# Coletamos o turno de estudo\n",
        "turno = input('Digite em qual turno você estuda (manhã, tarde ou noite): ')\n",
        "\n",
        "# Comparamos a entrada com todas as opções e imprimimos o resultado.\n",
        "if turno == 'manhã':\n",
        "  print('Bom Dia!')\n",
        "elif turno == 'tarde':\n",
        "  print('Boa Tarde!')\n",
        "elif turno == 'noite':\n",
        "  print('Boa Noite!')\n",
        "else:\n",
        "  print('Valor Inválido!')\n",
        "\n",
        "#8 -\n",
        "\n",
        "# Coletamos os dados\n",
        "num = int(input('Digite um número: '))\n",
        "\n",
        "# Verificamos se o número é par através do resultado do módulo\n",
        "if num % 2 == 0:\n",
        "    print('O número é par.')\n",
        "else:\n",
        "    print('O número é ímpar.')\n",
        "\n",
        "# 9 -\n",
        "\n",
        "# Coletamos os dados\n",
        "num = float(input('Digite um número: '))\n",
        "\n",
        "# Verificamos se o número é inteiro ou decimal através do resultado do módulo\n",
        "if num % 1 == 0:\n",
        "    print('O número é inteiro.')\n",
        "else:\n",
        "    print('O número é decimal.')\n",
        "\n",
        "# 10 -\n",
        "\n",
        "# Coletamos os números a serem operados e solicitamos a operação desejada pela pessoa usuária\n",
        "num1 = float(input('Informe o primeiro número: '))\n",
        "num2 = float(input('Informe o segundo número: '))\n",
        "operacao = input('Informe a operação desejada (+, -, *, /): ')\n",
        "\n",
        "# Verificamos o operador que foi selecionado e executa a operação matemática conforme a seleção\n",
        "if operacao == '+':\n",
        "    resultado = num1 + num2\n",
        "elif operacao == '-':\n",
        "    resultado = num1 - num2\n",
        "elif operacao == '*':\n",
        "    resultado = num1 * num2\n",
        "elif operacao == '/':\n",
        "    resultado = num1 / num2\n",
        "else: # Especificamos um resultado caso a pessoa usuária não digite alguma das operações corretamente.\n",
        "    print('Operação inválida, resultado da operação será 0')\n",
        "    resultado = 0\n",
        "\n",
        "#  Fazemos as mesmas verificações das questões anteriores para fazer o relatório do cálculo entre números\n",
        "if resultado % 1 == 0:\n",
        "    print('O resultado é inteiro.')\n",
        "else:\n",
        "    print('O resultado é decimal.')\n",
        "\n",
        "if resultado > 0:\n",
        "    print('O resultado é positivo.')\n",
        "elif resultado == 0:\n",
        "    print('O resultado é neutro.')\n",
        "else:\n",
        "    print('O resultado é negativo.')\n",
        "\n",
        "if resultado % 2 == 0:\n",
        "    print('O resultado é par.')\n",
        "else:\n",
        "    print('O resultado é ímpar.')\n",
        "\n",
        "#11 -\n",
        "\n",
        "# Coletamos os lados de um triângulo\n",
        "print('Coletaremos os lados de um triângulo.')\n",
        "lado1 = float(input('Digite o comprimento do primeiro lado: '))\n",
        "lado2 = float(input('Digite o comprimento do segundo lado: '))\n",
        "lado3 = float(input('Digite o comprimento do terceiro lado: '))\n",
        "\n",
        "# Verificamos de os lados formam um triângulo\n",
        "if (lado1 + lado2 > lado3) and (lado2 + lado3 > lado1) and (lado1 + lado3 > lado2):\n",
        "    print('Os valores podem formar um triângulo!')\n",
        "    # comparamos os lados para verificar o tipo de triângulo\n",
        "    if (lado1 == lado2) and (lado2 == lado3):\n",
        "        print('O triângulo é equilátero.')\n",
        "    elif (lado1 != lado2) and (lado2 != lado3) and (lado1 != lado3):\n",
        "        print('O triângulo é escaleno.')\n",
        "    else:\n",
        "        print('O triângulo é isósceles.')\n",
        "else:\n",
        "    print('Os valores não podem formar um triângulo!')\n",
        "\n",
        "#12 -\n",
        "\n",
        "# Coletamos a quantidade de litros e o tipo de combustível,\n",
        "# já deixando o caractere em maiúsculo para facilitar nossa análise\n",
        "quantidade_litros = float(input('Informe a quantidade de litros vendidos: '))\n",
        "tipo_combustivel = input('Informe o tipo de combustível (E para etanol e D para diesel): ').upper()\n",
        "\n",
        "#  Verificamos primeiro o tipo de combustível\n",
        "if tipo_combustivel == 'E':\n",
        "  # Taxamos o valor do preço em litros do etanol\n",
        "  preco_litro = 1.70\n",
        "  # De acordo com o valor da quantidade de litros, taxamos também o desconto\n",
        "  if quantidade_litros <= 15:\n",
        "    desconto = 0.02\n",
        "  else:\n",
        "    desconto = 0.04\n",
        "elif tipo_combustivel == 'D':\n",
        "  # Taxamos o valor do preço em litros do disel\n",
        "  preco_litro = 2.00\n",
        "  # De acordo com o valor da quantidade de litros, taxamos também o desconto\n",
        "  if quantidade_litros <= 15:\n",
        "    desconto = 0.03\n",
        "  else:\n",
        "    desconto = 0.05\n",
        "# Caso ocorra um erro na especificação de tipo de combustível,\n",
        "# consideramos entradas inválidas, e os preços são taxados em 0\n",
        "else:\n",
        "    print('Entradas inválidas!')\n",
        "    preco_litro = 0\n",
        "    desconto = 0\n",
        "\n",
        "# Fazemos o cálculo do valor de desconto, seguido do cálculo do preço descontado\n",
        "valor_desconto = preco_litro * quantidade_litros * desconto\n",
        "valor_pago = preco_litro * quantidade_litros - valor_desconto\n",
        "\n",
        "# Resultado\n",
        "print(f'Valor a ser pago pelo cliente: R$ {valor_pago}')\n",
        "\n",
        "#13 -\n",
        "\n",
        "# Coletamos as vendas dos dois anos\n",
        "venda_2022 = float(input('Informe a quantidade de vendas em 2022: '))\n",
        "venda_2023 = float(input('Informe a quantidade de vendas em 2023: '))\n",
        "\n",
        "# Calculamos a variação percentual entre as vendas dos anos de 2022 e 2023\n",
        "var_percentual = 100 * (venda_2023 - venda_2022) / (venda_2022)\n",
        "\n",
        "# Análise condicional da variação percentual para determinar a sugestão a ser enviada\n",
        "if var_percentual > 20:\n",
        "    print('Bonificação para o time de vendas.')\n",
        "elif 2 <= var_percentual <= 20:\n",
        "    print('Pequena bonificação para time de vendas.')\n",
        "elif -10 <= var_percentual < 2:\n",
        "    print('Planejamento de políticas de incentivo às vendas.')\n",
        "else:\n",
        "    print('Corte de gastos.')"
      ],
      "metadata": {
        "id": "2BpQTF7EpBwo"
      },
      "execution_count": null,
      "outputs": []
    },
    {
      "cell_type": "markdown",
      "source": [
        "# Estruturas de repetição"
      ],
      "metadata": {
        "id": "aL1vJPewvwvz"
      }
    },
    {
      "cell_type": "markdown",
      "source": [
        "Quando temos que executar um mesmo bloco de comandos por várias vezes não é muito interessante fazer isso à mão.\n",
        "\n",
        "Imaginemos a situação de termos que coletar e imprimir a média de duas notas de **3 estudantes**:"
      ],
      "metadata": {
        "id": "VcPfCa8d-84t"
      }
    },
    {
      "cell_type": "code",
      "source": [
        "nota_1 = float(input('Digite a 1° nota: '))\n",
        "nota_2 = float(input('Digite a 2° nota: '))\n",
        "\n",
        "print(f'Média: {(nota_1+nota_2)/2}')"
      ],
      "metadata": {
        "id": "LzPyN4Ad3qwy",
        "colab": {
          "base_uri": "https://localhost:8080/"
        },
        "outputId": "a258cff4-4ee5-460e-fa4a-a6a7461a9e95"
      },
      "execution_count": null,
      "outputs": [
        {
          "output_type": "stream",
          "name": "stdout",
          "text": [
            "Digite a 1° nota: 10\n",
            "Digite a 2° nota: 6\n",
            "Média: 8.0\n"
          ]
        }
      ]
    },
    {
      "cell_type": "markdown",
      "source": [
        "Agora imaginemos uma situação em que não são apenas 3 estudantes, mas sim 100 estudantes. Não seria interessante repetir o mesmo código por 100 vezes, mas sim **executar o mesmo código 100 vezes**.\n",
        "\n",
        "Essa repetição conseguimos construir com laços de repetição!"
      ],
      "metadata": {
        "id": "9puIuvUbFSFX"
      }
    },
    {
      "cell_type": "markdown",
      "source": [
        "## `WHILE`"
      ],
      "metadata": {
        "id": "uLO9-aE4-wx8"
      }
    },
    {
      "cell_type": "markdown",
      "source": [
        "O laço `while` é uma estrutura de controle de repetição em Python que permite executar um bloco de código repetidamente enquanto uma determinada condição é verdadeira. Sua estrutura é:\n",
        "\n",
        "\n",
        "\n",
        "```\n",
        "while condição:\n",
        "    # bloco de código\n",
        "```\n",
        "\n",
        "Vamos construir um exemplo com um contador de 1 até 10.\n"
      ],
      "metadata": {
        "id": "rXZxDMiqHxm9"
      }
    },
    {
      "cell_type": "code",
      "source": [
        "contador = 1\n",
        "\n",
        "while contador <= 10:\n",
        "  print(contador)\n",
        "  contador = contador + 1"
      ],
      "metadata": {
        "id": "6b_izu633j0O",
        "colab": {
          "base_uri": "https://localhost:8080/"
        },
        "outputId": "41b8880a-0469-4489-b039-2f7b32243f33"
      },
      "execution_count": null,
      "outputs": [
        {
          "output_type": "stream",
          "name": "stdout",
          "text": [
            "1\n",
            "2\n",
            "3\n",
            "4\n",
            "5\n",
            "6\n",
            "7\n",
            "8\n",
            "9\n",
            "10\n"
          ]
        }
      ]
    },
    {
      "cell_type": "markdown",
      "source": [
        "Agora vamos coletar as notas e médias de cada aluno dentro do while. Faremos um exemplo com 3 médias."
      ],
      "metadata": {
        "id": "W4KZPBJuIrut"
      }
    },
    {
      "cell_type": "code",
      "source": [
        "i = 0\n",
        "total_medias = int(input('Digite a quantidade de médias: '))\n",
        "\n",
        "while i < total_medias:\n",
        "  nota_1 = float(input('Digite a 1° nota: '))\n",
        "  nota_2 = float(input('Digite a 2° nota: '))\n",
        "\n",
        "  print(f'Média: {(nota_1+nota_2)/2}')\n",
        "\n",
        "  i = i + 1\n",
        "\n",
        "print('Fim do programa')"
      ],
      "metadata": {
        "id": "aIeQ_CzW3jiP",
        "colab": {
          "base_uri": "https://localhost:8080/"
        },
        "outputId": "835328e5-c023-4da4-c9a6-c656b16cf176"
      },
      "execution_count": null,
      "outputs": [
        {
          "output_type": "stream",
          "name": "stdout",
          "text": [
            "Digite a quantidade de médias: 2\n",
            "Digite a 1° nota: 10\n",
            "Digite a 2° nota: 10\n",
            "Média: 10.0\n",
            "Digite a 1° nota: 5\n",
            "Digite a 2° nota: 8\n",
            "Média: 6.5\n",
            "Fim do programa\n"
          ]
        }
      ]
    },
    {
      "cell_type": "markdown",
      "source": [
        "## `FOR`"
      ],
      "metadata": {
        "id": "WgAIaENMMfCP"
      }
    },
    {
      "cell_type": "markdown",
      "source": [
        "O laço `for` é um tipo de estrutura de controle de fluxo em Python que permite iterar sobre um conjunto de elementos. A sua estrutura é:\n",
        "\n",
        "\n",
        "\n",
        "```\n",
        "for elemento in conjunto:\n",
        "    # código a ser executado para cada elemento\n",
        "```\n",
        "\n",
        "O laço for itera sobre cada elemento do conjunto especificado e executa o bloco de código dentro do laço para cada elemento. Quando o laço chega ao final do conjunto, ele é interrompido e o programa continua a execução após o laço.\n",
        "\n"
      ],
      "metadata": {
        "id": "HxrSZoRAMh-x"
      }
    },
    {
      "cell_type": "markdown",
      "source": [
        "O conjunto pode ser gerado com a função [`range()`](https://docs.python.org/3/library/functions.html#func-range). Que é uma função capaz de gerar uma sequência de números inteiros. A estrutura dessa função é:\n",
        "\n",
        "```\n",
        "range(inicio, fim, passo)\n",
        "```\n",
        "\n",
        "Segundo a documentação, o `range()` gera uma sequência de números inteiros a partir do valor do parâmetro `inicio` até o valor do parâmetro `fim`, de acordo com o valor do parâmetro `passo`. Se `inicio` não for especificado, o valor padrão é 0. Se `passo` não for especificado, o valor padrão é 1.\n",
        "\n",
        "\n"
      ],
      "metadata": {
        "id": "6VgjyoQtPHBM"
      }
    },
    {
      "cell_type": "markdown",
      "source": [
        "Vamos fazer o mesmo contador `while` agora com `for`."
      ],
      "metadata": {
        "id": "ryn0hfdlUwC8"
      }
    },
    {
      "cell_type": "code",
      "source": [
        "lista = [1,2,3,4,5,6,7,8,9,10]\n",
        "\n",
        "for i in lista:\n",
        "  print(i)\n",
        "\n",
        "list = range(1,11)\n",
        "\n",
        "for i in list:\n",
        "  print(i)"
      ],
      "metadata": {
        "id": "t6qcdPyP3YgZ",
        "colab": {
          "base_uri": "https://localhost:8080/"
        },
        "outputId": "352eb8bc-fc8d-4ade-b685-77da1757736d"
      },
      "execution_count": null,
      "outputs": [
        {
          "output_type": "stream",
          "name": "stdout",
          "text": [
            "1\n",
            "2\n",
            "3\n",
            "4\n",
            "5\n",
            "6\n",
            "7\n",
            "8\n",
            "9\n",
            "10\n",
            "1\n",
            "2\n",
            "3\n",
            "4\n",
            "5\n",
            "6\n",
            "7\n",
            "8\n",
            "9\n",
            "10\n"
          ]
        }
      ]
    },
    {
      "cell_type": "code",
      "source": [
        "for contador in range(1,3):\n",
        "  nota_1 = float(input('Digite a 1° nota: '))\n",
        "  nota_2 = float(input('Digite a 2° nota: '))\n",
        "\n",
        "  print(f'Média: {(nota_1+nota_2)/2}')\n",
        "\n",
        "print('Fim do programa')"
      ],
      "metadata": {
        "id": "KBeY8z573YWz",
        "colab": {
          "base_uri": "https://localhost:8080/"
        },
        "outputId": "4c3d264a-6595-4198-b1e1-fa192fe67e50"
      },
      "execution_count": null,
      "outputs": [
        {
          "output_type": "stream",
          "name": "stdout",
          "text": [
            "Digite a 1° nota: 10\n",
            "Digite a 2° nota: 5\n",
            "Média: 7.5\n",
            "Digite a 1° nota: 8\n",
            "Digite a 2° nota: 6\n",
            "Média: 7.0\n",
            "Fim do programa\n"
          ]
        }
      ]
    },
    {
      "cell_type": "markdown",
      "source": [
        "### Exercicios"
      ],
      "metadata": {
        "id": "BTVd7s_Igmcd"
      }
    },
    {
      "cell_type": "code",
      "source": [
        "#1) Escreva um programa que peça dois números inteiros e imprima todos os números inteiros entre eles.\n",
        "\n",
        "# Coletamos os valores de início e fim\n",
        "inicio = int(input('Insira o primeiro número inteiro: '))\n",
        "fim = int(input('Insira o segundo número inteiro: '))\n",
        "\n",
        "# Verificamos se o valor de início é maior que o fim\n",
        "if inicio < fim:\n",
        "  # podemos imprimir os inteiros entre o menor e o maior valor\n",
        "  for i in range(inicio + 1, fim):\n",
        "    print(i)\n",
        "elif inicio > fim:\n",
        "  for i in range(fim + 1, inicio):\n",
        "    print(i)\n",
        "else: #caso os números sejam iguais, não conseguimos imprimir sequência alguma\n",
        "  print('Os números são iguais.')\n",
        "\n",
        "#2) Escreva um programa para calcular quantos dias levará para a colônia de uma bactéria A ultrapassar ou igualar a colônia de uma bactéria B, com base nas taxas de crescimento de 3% e 1,5% respectivamente. Considere que a colônia A inicia com 4 elementos e a B com 10.\n",
        "\n",
        "# número inicial de bactérias\n",
        "colonia_a = 4\n",
        "colonia_b = 10\n",
        "\n",
        "# taxas de crescimento das colônias\n",
        "taxa_a = 0.03\n",
        "taxa_b = 0.015\n",
        "\n",
        "# contador de dias\n",
        "dias = 0\n",
        "\n",
        "# A condição que finaliza o laço é o caso em que\n",
        "# a colônia A ultrapasse a colônia B\n",
        "while colonia_a <= colonia_b:\n",
        "  # usamos um operador de atribuição com multiplicação\n",
        "  colonia_a *= 1 + taxa_a\n",
        "  colonia_b *= 1 + taxa_b\n",
        "  # contamos o dia para cada iteração\n",
        "  dias += 1\n",
        "\n",
        "# resultado final\n",
        "print(f'Irá levar {dias} dias para a colônia A ultrapassar a colônia B.')\n",
        "\n",
        "# 3) Para tratar uma quantidade de 15 dados de avaliações de pessoas usuárias de um serviço da empresa, precisamos verificar se as notas são válidas. Então, escreva um programa que vai receber a nota de 0 a 5 de todos os dados e verificar se é um valor válido. Caso seja inserido uma nota acima de 5 ou abaixo de 0, repita até que a pessoa usuária insira um valor válido.\n",
        "\n",
        "# laço para pegar as 15 notas\n",
        "for i in range(15):\n",
        "  nota = float(input(f'Insira a nota da pessoa usuária {i}: '))\n",
        "\n",
        "  # verifica se a nota está entre 0 e 5\n",
        "  # se estiver, o laço rodará ininterruptamente até ser obtido um valor válido\n",
        "  while (nota < 0) or (nota > 5):\n",
        "    nota = float(input(f'Nota inválida, insira novamente a nota da pessoa usuária {i}: '))\n",
        "\n",
        "print('Verificação feita. Todas as notas são válidas')\n",
        "\n",
        "# 4) Desenvolva um programa que leia um conjunto indeterminado de temperaturas em Celsius e informe a média delas. A leitura deve ser encerrada ao ser enviado o valor -273°C.\n",
        "\n",
        "# coletamos a temperatura\n",
        "temperatura = float(input('Insira a temperatura em Celsius: '))\n",
        "\n",
        "# inicializamos uma contadora e soma para a média\n",
        "contadora = 0\n",
        "soma = 0\n",
        "\n",
        "# nosso código executa sempre até o valor de temperatura for igual a -273\n",
        "while temperatura != -273:\n",
        "    # a soma é dada com a adição da temperatura à variavel soma\n",
        "    soma += temperatura\n",
        "    # contamos a quantidade de valores coletados através da contadora\n",
        "    contadora += 1\n",
        "    # coletamos novamente a temperatura\n",
        "    temperatura = float(input('Insira a temperatura em Celsius: '))\n",
        "\n",
        "media = soma / contadora\n",
        "\n",
        "print(f'A média das temperaturas é: {media}')\n",
        "\n",
        "# 5) Escreva um programa que calcule o fatorial de um número inteiro fornecido pela pessoa usuária. Lembrando que o fatorial de um número inteiro é a multiplicação desse número por todos os seus antecessores até o número 1. Por exemplo, o fatorial de 5 é 5 x 4 x 3 x 2 x 1 = 120.\n",
        "\n",
        "# Pedir o número\n",
        "num = int(input('Informe um número inteiro: '))\n",
        "\n",
        "# Inicializar o cálculo\n",
        "fatorial = 1\n",
        "\n",
        "# nosso contador inicializa com o número máximo\n",
        "# e será feita uma contagem decrescente com o operador -=\n",
        "i = num\n",
        "while i > 0:\n",
        "    # queremos multiplicar agora o valor do fatorial pelo num\n",
        "    # e todos os números abaixo dele até 1\n",
        "    fatorial *= i\n",
        "    i -= 1\n",
        "\n",
        "# Imprimir o cálculo do fatorial\n",
        "print(f'Fatorial de {num} é {fatorial}')\n",
        "\n",
        "# 6) Escreva um programa que gere a tabuada de um número inteiro de 1 a 10, de acordo com a escolha da pessoa usuária. Como exemplo, para o número 2, a tabuada deve ser mostrada no seguinte formato:\n",
        "\n",
        "# Pedir o número\n",
        "num = int(input('Informe um número inteiro de 1 a 10: '))\n",
        "\n",
        "# Vamos gerar a tabuada\n",
        "print(f'Tabuada do {num}:')\n",
        "for i in range(1, 11):\n",
        "    resultado = num * i\n",
        "    print(f'{num} x {i} = {resultado}')\n",
        "\n",
        "# 7) Os números primos possuem várias aplicações dentro da Ciência de Dados em criptografia e segurança, por exemplo. Um número primo é aquele que é divisível apenas por um e por ele mesmo. Assim, faça um programa que peça um número inteiro e determine se ele é ou não um número primo.\n",
        "\n",
        "# Solicitamos o número\n",
        "num = int(input(\"Digite o número: \"))\n",
        "\n",
        "# Assumimos que o número é primo até que se prove o contrário\n",
        "eh_primo = True\n",
        "\n",
        "# Números abaixo de 2 não são primos\n",
        "if num <= 1 :\n",
        "  eh_primo = False\n",
        "else:\n",
        "    for i in range(2, num):\n",
        "        # Se o número for divisível por qualquer número dentro deste intervalo,\n",
        "        # ele não é primo, portanto, mudamos a variável 'eh_primo' para False e saímos do loop.\n",
        "        if num % i == 0:\n",
        "            eh_primo = False\n",
        "            break\n",
        "\n",
        "# Verifica se 'eh_primo' ainda é True, o que significa que o número passou pelo loop\n",
        "# sem ser divisível por nenhum número além de 1 e ele mesmo.\n",
        "if eh_primo:\n",
        "    # Se for o caso, o número é primo.\n",
        "    print(f'O número {num} é primo')\n",
        "else:\n",
        "    # Caso contrário, o número não é primo.\n",
        "    print(f'O número {num} não é primo')\n",
        "\n",
        "# 8) Vamos entender a distribuição de idades de pensionistas de uma empresa de previdência. Escreva um programa que leia as idades de uma quantidade não informada de clientes e mostre a distribuição em intervalos de [0-25], [26-50], [51-75] e [76-100]. Encerre a entrada de dados com um número negativo.\n",
        "\n",
        "# Coletamos as idades dos clientes\n",
        "idade = int(input('Informe a idade (ou um número negativo para encerrar): '))\n",
        "\n",
        "# Inicializamos as variáveis de contadores\n",
        "contador_0_25 = 0 # contador de idades entre 0 e 25\n",
        "contador_26_50 = 0 # contador de idades entre 26 e 50\n",
        "contador_51_75 = 0 # contador de idades entre 51 e 75\n",
        "contador_76_100 = 0 # contador de idades entre 76 e 100\n",
        "\n",
        "# nosso código executa sempre até o valor de idade for negativa\n",
        "while idade >= 0:\n",
        "    # contamos cada caso\n",
        "    if idade >= 0 and idade <= 25:\n",
        "        contador_0_25 += 1\n",
        "    elif idade >= 26 and idade <= 50:\n",
        "        contador_26_50 += 1\n",
        "    elif idade >= 51 and idade <= 75:\n",
        "        contador_51_75 += 1\n",
        "    elif idade >= 76 and idade <= 100:\n",
        "        contador_76_100 += 1\n",
        "\n",
        "    # Repetir o processo de entrada de dados até que seja digitado um número negativo\n",
        "    idade = int(input('Informe a idade (ou um número negativo para encerrar): '))\n",
        "\n",
        "# Mostramos os resultados\n",
        "print('Distribuição de idades:')\n",
        "print('[0-25]:', contador_0_25)\n",
        "print('[26-50]:', contador_26_50)\n",
        "print('[51-75]:', contador_51_75)\n",
        "print('[76-100]:', contador_76_100)\n",
        "\n",
        "# 9) Em uma eleição para gerência em uma empresa com 20 pessoas colaboradoras, existem quatro candidatos(as). Escreva um programa que calcule o(a) vencedor(a) da eleição. A votação ocorreu da seguinte maneira:\n",
        "#Cada colaborador(a) votou em uma das quatro pessoas candidatas (que representamos pelos números 1, 2, 3 e 4).\n",
        "#Também foram contabilizados os votos nulos (representados pelo número 5) e os votos em branco (representados pelo número 6).\n",
        "#Ao final da votação, o programa deve exibir o número total de votos para cada candidato(a), os nulos e os votos em branco. Além disso, deve calcular e exibir a porcentagem de votos nulos em relação ao total de votos e a porcentagem de votos em branco em relação ao total de votos.\n",
        "\n",
        "# Inicializamos as variáveis contadoras\n",
        "votos_candidato1 = 0\n",
        "votos_candidato2 = 0\n",
        "votos_candidato3 = 0\n",
        "votos_candidato4 = 0\n",
        "votos_nulos = 0\n",
        "votos_branco = 0\n",
        "\n",
        "# Início do laço para ler os votos\n",
        "for i in range(0,20):\n",
        "    voto = int(input('Informe seu voto: '))\n",
        "    if voto == 1:\n",
        "        votos_candidato1 += 1\n",
        "    elif voto == 2:\n",
        "        votos_candidato2 += 1\n",
        "    elif voto == 3:\n",
        "        votos_candidato3 += 1\n",
        "    elif voto == 4:\n",
        "        votos_candidato4 += 1\n",
        "    elif voto == 5:\n",
        "        votos_nulos += 1\n",
        "    elif voto == 6:\n",
        "        votos_branco += 1\n",
        "    else:\n",
        "        print(\"Voto inválido.\")\n",
        "\n",
        "print(f'Votos candidato 1: {votos_candidato1}')\n",
        "print(f'Votos candidato 2: {votos_candidato2}')\n",
        "print(f'Votos candidato 3: {votos_candidato3}')\n",
        "print(f'Votos candidato 4: {votos_candidato4}')\n",
        "print(f'Votos nulos: {votos_nulos}')\n",
        "print(f'Votos em branco: {votos_branco}')\n",
        "print(f'Percentual de votos nulos: {(votos_nulos / 20 * 100)}')\n",
        "print(f'Percentual de votos em branco: {(votos_branco / 20 * 100)}')\n"
      ],
      "metadata": {
        "id": "JYg5eA5dgpjf"
      },
      "execution_count": null,
      "outputs": []
    },
    {
      "cell_type": "markdown",
      "source": [
        "# Estruturas de dados"
      ],
      "metadata": {
        "id": "8noP8OJ0Vhux"
      }
    },
    {
      "cell_type": "markdown",
      "source": [
        "Um conjunto de elementos é uma coleção de itens, que são armazenados juntos de maneira organizada. Alguns exemplos de conjuntos de elementos em Python são listas, strings e dicionários."
      ],
      "metadata": {
        "id": "xpEUkefTu8fY"
      }
    },
    {
      "cell_type": "markdown",
      "source": [
        "## Listas"
      ],
      "metadata": {
        "id": "THSg4KYLwxIb"
      }
    },
    {
      "cell_type": "markdown",
      "source": [
        "As listas podem armazenar uma coleção de itens em ordem. Eles são delimitados por colchetes `[]` e os itens são separados por vírgulas.\n",
        "\n",
        "Elas também podem armazenar qualquer tipo de item, incluindo números, strings, objetos e outras listas. Elas também podem armazenar itens de tipos de dados diferentes juntos em uma única lista."
      ],
      "metadata": {
        "id": "dzpsiqrOyJcK"
      }
    },
    {
      "cell_type": "code",
      "source": [
        "dados = ['Juciandro', 'Souza', 'M', 26]\n",
        "\n",
        "for dado in dados:\n",
        "  print(f'- {dado}')"
      ],
      "metadata": {
        "id": "1NSzXfct3Lkw",
        "colab": {
          "base_uri": "https://localhost:8080/"
        },
        "outputId": "aae1920a-1b7f-43d6-d7af-030a7de185d4"
      },
      "execution_count": null,
      "outputs": [
        {
          "output_type": "stream",
          "name": "stdout",
          "text": [
            "- Juciandro\n",
            "- Souza\n",
            "- M\n",
            "- 26\n"
          ]
        }
      ]
    },
    {
      "cell_type": "markdown",
      "source": [
        "As listas são organizadas em Python porque **cada elemento da lista tem um índice que indica sua posição na lista**. Os índices começam em 0 e vão até o tamanho da lista menos 1."
      ],
      "metadata": {
        "id": "qUz3sJNl6LgK"
      }
    },
    {
      "cell_type": "markdown",
      "source": [
        "Temos então 5 elementos com índices variando de 0 a 4, ordenadamente:\n",
        "\n",
        "```\n",
        "#             [0]           [1]   [2]   [3]    [4]\n",
        "lista = ['Fabricio Daniel', 9.5 , 9.0 , 8.0 , True]\n",
        "```\n",
        "\n",
        "Em Python temos também os índices **negativos** que se iniciam no último elemento com o valor de `-1` e depois avancam no universo dos negativos até chegar no 1° elemeno:\n",
        "\n",
        "```\n",
        "#             [-5]         [-4]  [-3]  [-2]   [-1]\n",
        "lista = ['Fabricio Daniel', 9.5 , 9.0 , 8.0 , True]\n",
        "```\n",
        "\n",
        "Conseguimos selecionar separadamente cada elemento através de seus respectivos índices. Colocando o nome da lista e em seguida o índice a ser selecionado."
      ],
      "metadata": {
        "id": "rLf-Qg526hFD"
      }
    },
    {
      "cell_type": "code",
      "source": [
        "lista = ['Fabricio Daniel', 9.5 , 9.0 , 8.0 , True]\n",
        "lista[0]"
      ],
      "metadata": {
        "id": "S1lf1DWg3J7A",
        "colab": {
          "base_uri": "https://localhost:8080/",
          "height": 36
        },
        "outputId": "e8e86a05-f4c3-41f3-b6cd-e772870a265d"
      },
      "execution_count": null,
      "outputs": [
        {
          "output_type": "execute_result",
          "data": {
            "text/plain": [
              "'Fabricio Daniel'"
            ],
            "application/vnd.google.colaboratory.intrinsic+json": {
              "type": "string"
            }
          },
          "metadata": {},
          "execution_count": 2
        }
      ]
    },
    {
      "cell_type": "code",
      "source": [
        "lista[-1]"
      ],
      "metadata": {
        "id": "5MZu9F6S3JxS",
        "colab": {
          "base_uri": "https://localhost:8080/"
        },
        "outputId": "e19aeae1-2249-4daa-ca60-d6982a20eb64"
      },
      "execution_count": null,
      "outputs": [
        {
          "output_type": "execute_result",
          "data": {
            "text/plain": [
              "True"
            ]
          },
          "metadata": {},
          "execution_count": 3
        }
      ]
    },
    {
      "cell_type": "code",
      "source": [
        "lista[-2]"
      ],
      "metadata": {
        "id": "9uLwwKom3Jmg",
        "colab": {
          "base_uri": "https://localhost:8080/"
        },
        "outputId": "997741dc-0371-47c6-e1ac-6ce8b3a8ed47"
      },
      "execution_count": null,
      "outputs": [
        {
          "output_type": "execute_result",
          "data": {
            "text/plain": [
              "8.0"
            ]
          },
          "metadata": {},
          "execution_count": 4
        }
      ]
    },
    {
      "cell_type": "markdown",
      "source": [
        "Uma forma mais dinâmica de trabalhar item por item de uma lista é utilizando um laço for para leitura elemento a elemento."
      ],
      "metadata": {
        "id": "6TaE1ijmBTCd"
      }
    },
    {
      "cell_type": "code",
      "source": [
        "for elemento in lista:\n",
        "  print(f'- {elemento}')"
      ],
      "metadata": {
        "id": "2GWvY7F-3IVP",
        "colab": {
          "base_uri": "https://localhost:8080/"
        },
        "outputId": "b32125b0-6f8f-404e-b8a2-1a8fbf5dfb18"
      },
      "execution_count": null,
      "outputs": [
        {
          "output_type": "stream",
          "name": "stdout",
          "text": [
            "- Fabricio Daniel\n",
            "- 9.5\n",
            "- 9.0\n",
            "- 8.0\n",
            "- True\n"
          ]
        }
      ]
    },
    {
      "cell_type": "markdown",
      "source": [
        "A nota `8.0` de Fabricio Daniel precisa ser ajustada pois ganhou 2 pontos em sua ultima nota por fazer um trabalho de turma. Então é necessária fazer uma troca no valor do índice `3` de `8.0` para `10.0`."
      ],
      "metadata": {
        "id": "Dh1_HnIVvucY"
      }
    },
    {
      "cell_type": "code",
      "source": [
        "lista[3] = 10.0\n",
        "lista"
      ],
      "metadata": {
        "id": "ffFiIlji3G7H",
        "colab": {
          "base_uri": "https://localhost:8080/"
        },
        "outputId": "2e3c8adc-3ba5-41d5-c79b-9ab2affc909b"
      },
      "execution_count": null,
      "outputs": [
        {
          "output_type": "execute_result",
          "data": {
            "text/plain": [
              "['Fabricio Daniel', 9.5, 9.0, 10.0, True]"
            ]
          },
          "metadata": {},
          "execution_count": 6
        }
      ]
    },
    {
      "cell_type": "markdown",
      "source": [
        "conseguimos calcular a média do aluno a partir dos dados que temos"
      ],
      "metadata": {
        "id": "53XduzXkycAf"
      }
    },
    {
      "cell_type": "code",
      "source": [
        "media = (lista[1] + lista[2] + lista[3])/3\n",
        "media"
      ],
      "metadata": {
        "id": "fRy9twzI3GFI",
        "colab": {
          "base_uri": "https://localhost:8080/"
        },
        "outputId": "39e4b89a-7aed-41c1-ff66-f9197b90fe60"
      },
      "execution_count": null,
      "outputs": [
        {
          "output_type": "execute_result",
          "data": {
            "text/plain": [
              "9.5"
            ]
          },
          "metadata": {},
          "execution_count": 7
        }
      ]
    },
    {
      "cell_type": "markdown",
      "source": [
        "## Manipulação de listas\n",
        "\n",
        "As listas são muito úteis em Python porque permitem armazenar e acessar uma coleção de itens de maneira organizada e rápida. Elas também oferecem muitos métodos úteis para manipular os itens armazenados, como adicionar, remover, classificar e pesquisar elementos."
      ],
      "metadata": {
        "id": "d-iYr10-y4qw"
      }
    },
    {
      "cell_type": "markdown",
      "source": [
        "#### Quantidade de elementos\n",
        "\n",
        "Usamos a função [`len()`](https://docs.python.org/3/library/functions.html#len) para descobrimos a quantidade de elementos de um conjunto."
      ],
      "metadata": {
        "id": "ZLqx9A97XVB_"
      }
    },
    {
      "cell_type": "code",
      "source": [
        "len(lista)"
      ],
      "metadata": {
        "id": "TOVGVubX3BI_",
        "colab": {
          "base_uri": "https://localhost:8080/"
        },
        "outputId": "6c48a990-4b17-487c-bc0c-3d8fe7a02615"
      },
      "execution_count": null,
      "outputs": [
        {
          "output_type": "execute_result",
          "data": {
            "text/plain": [
              "5"
            ]
          },
          "metadata": {},
          "execution_count": 8
        }
      ]
    },
    {
      "cell_type": "markdown",
      "source": [
        "#### Partição\n",
        "\n",
        "A partição de listas por indexação em Python é uma técnica muito útil para selecionar um subconjunto de elementos de uma lista. Ela é feita usando a sintaxe `lista[inicio:fim]`, onde `inicio` é o índice do primeiro elemento a ser incluído na partição e `fim` é o índice do primeiro elemento a ser excluído da partição."
      ],
      "metadata": {
        "id": "Z5tpstlHJss3"
      }
    },
    {
      "cell_type": "code",
      "source": [],
      "metadata": {
        "id": "Gm9RaTnG28uC"
      },
      "execution_count": null,
      "outputs": []
    },
    {
      "cell_type": "code",
      "source": [
        "lista[1:3]"
      ],
      "metadata": {
        "id": "LfitkLcQ26MO",
        "colab": {
          "base_uri": "https://localhost:8080/"
        },
        "outputId": "a7c42192-7452-438b-828f-d80ee3958b02"
      },
      "execution_count": null,
      "outputs": [
        {
          "output_type": "execute_result",
          "data": {
            "text/plain": [
              "[9.5, 9.0]"
            ]
          },
          "metadata": {},
          "execution_count": 9
        }
      ]
    },
    {
      "cell_type": "code",
      "source": [
        "lista[:3]"
      ],
      "metadata": {
        "id": "1-99Q09W28Bu",
        "colab": {
          "base_uri": "https://localhost:8080/"
        },
        "outputId": "58af8a08-cd99-4d63-d842-fe7d60727a78"
      },
      "execution_count": null,
      "outputs": [
        {
          "output_type": "execute_result",
          "data": {
            "text/plain": [
              "['Fabricio Daniel', 9.5, 9.0]"
            ]
          },
          "metadata": {},
          "execution_count": 10
        }
      ]
    },
    {
      "cell_type": "code",
      "source": [
        "lista[3:]"
      ],
      "metadata": {
        "id": "j23Uwma5226l",
        "colab": {
          "base_uri": "https://localhost:8080/"
        },
        "outputId": "bc02d673-95ad-4e0a-fbb7-75f2c2afc526"
      },
      "execution_count": null,
      "outputs": [
        {
          "output_type": "execute_result",
          "data": {
            "text/plain": [
              "[10.0, True]"
            ]
          },
          "metadata": {},
          "execution_count": 11
        }
      ]
    },
    {
      "cell_type": "code",
      "source": [
        "lista[:]"
      ],
      "metadata": {
        "id": "zfMrd28_21_q",
        "colab": {
          "base_uri": "https://localhost:8080/"
        },
        "outputId": "9d86cec9-a4fe-4735-8370-3a5becbc3d34"
      },
      "execution_count": null,
      "outputs": [
        {
          "output_type": "execute_result",
          "data": {
            "text/plain": [
              "['Fabricio Daniel', 9.5, 9.0, 10.0, True]"
            ]
          },
          "metadata": {},
          "execution_count": 12
        }
      ]
    },
    {
      "cell_type": "markdown",
      "source": [
        "#### [`append()`](https://docs.python.org/3/tutorial/datastructures.html#:~:text=of%20list%20objects%3A-,list.append(x),-Add%20an%20item)\n",
        "\n",
        "Adiciona um elemento ao final da lista."
      ],
      "metadata": {
        "id": "O0RRyabkRzZC"
      }
    },
    {
      "cell_type": "code",
      "source": [
        "lista.append(media)\n",
        "lista"
      ],
      "metadata": {
        "id": "Sr2BasZE20qF",
        "colab": {
          "base_uri": "https://localhost:8080/"
        },
        "outputId": "453883f0-897d-49d2-d4c6-e2480bd8acd8"
      },
      "execution_count": null,
      "outputs": [
        {
          "output_type": "execute_result",
          "data": {
            "text/plain": [
              "['Fabricio Daniel', 9.5, 9.0, 10.0, True, 9.5]"
            ]
          },
          "metadata": {},
          "execution_count": 13
        }
      ]
    },
    {
      "cell_type": "markdown",
      "source": [
        "#### [`extend()`](https://docs.python.org/3/tutorial/datastructures.html#:~:text=list.extend(iterable))\n",
        "\n",
        "Adiciona vários elementos ao final da lista.\n",
        "\n",
        "Adicionaremos as notas `[10.0,8.0,9.0]` na lista do Fabricio Daniel"
      ],
      "metadata": {
        "id": "uQV91XMsUOJD"
      }
    },
    {
      "cell_type": "code",
      "source": [
        "lista.extend([10.0,8.0,9.0])\n",
        "lista"
      ],
      "metadata": {
        "id": "b8a6wX2w2zrs",
        "colab": {
          "base_uri": "https://localhost:8080/"
        },
        "outputId": "27f0a056-504b-4ddd-eb41-e0e4d381dfa0"
      },
      "execution_count": null,
      "outputs": [
        {
          "output_type": "execute_result",
          "data": {
            "text/plain": [
              "['Fabricio Daniel', 9.5, 9.0, 10.0, True, 9.5, 10.0, 8.0, 9.0]"
            ]
          },
          "metadata": {},
          "execution_count": 14
        }
      ]
    },
    {
      "cell_type": "markdown",
      "source": [
        "*Isso não é possivel ser feito com o* `append`."
      ],
      "metadata": {
        "id": "IVJvkTwNUk6M"
      }
    },
    {
      "cell_type": "code",
      "source": [
        "lista.append([10.0,8.0,9.0])\n",
        "lista"
      ],
      "metadata": {
        "id": "DyT9kWkB2yeB",
        "colab": {
          "base_uri": "https://localhost:8080/"
        },
        "outputId": "bb09f08e-47b2-4614-a9c4-8774e30a8755"
      },
      "execution_count": null,
      "outputs": [
        {
          "output_type": "execute_result",
          "data": {
            "text/plain": [
              "['Fabricio Daniel',\n",
              " 9.5,\n",
              " 9.0,\n",
              " 10.0,\n",
              " True,\n",
              " 9.5,\n",
              " 10.0,\n",
              " 8.0,\n",
              " 9.0,\n",
              " [10.0, 8.0, 9.0]]"
            ]
          },
          "metadata": {},
          "execution_count": 15
        }
      ]
    },
    {
      "cell_type": "markdown",
      "source": [
        "#### [`remove()`](https://docs.python.org/3/tutorial/datastructures.html#:~:text=append(x).-,list.remove(x),-Remove%20the%20first)\n",
        "\n",
        "Remove um elemento específico da lista."
      ],
      "metadata": {
        "id": "dPGM5gpyUX1z"
      }
    },
    {
      "cell_type": "code",
      "source": [
        "lista.remove([10.0,8.0,9.0])\n",
        "lista"
      ],
      "metadata": {
        "id": "QgXraxZL2xZN",
        "colab": {
          "base_uri": "https://localhost:8080/"
        },
        "outputId": "6977d0c9-918a-4268-b78f-33857f0d3ec2"
      },
      "execution_count": null,
      "outputs": [
        {
          "output_type": "execute_result",
          "data": {
            "text/plain": [
              "['Fabricio Daniel', 9.5, 9.0, 10.0, True, 9.5, 10.0, 8.0, 9.0]"
            ]
          },
          "metadata": {},
          "execution_count": 16
        }
      ]
    },
    {
      "cell_type": "markdown",
      "source": [
        "## Dicionário"
      ],
      "metadata": {
        "id": "Rc22Vc08YDZ2"
      }
    },
    {
      "cell_type": "markdown",
      "source": [
        "Os dicionários são um tipo de estrutura de dados que armazenam pares de *chave-valor*. Eles são delimitados por chaves `{}` e os pares *chave-valor* são separados por vírgulas.\n",
        "\n",
        "```\n",
        "dicionário = {chave: valor}\n",
        "```\n",
        "\n",
        "A **chave** é um elemento único que identifica um valor no dicionário, enquanto o **valor** é o item que é armazenado para a chave. As chaves e os valores podem ser de **qualquer tipo de dado**.\n",
        "\n",
        "Os dicionários são úteis para armazenar e acessar dados de maneira organizada e rápida. Eles são um tipo de conjunto de elementos em Python, pois armazenam uma coleção de itens."
      ],
      "metadata": {
        "id": "PJ-cCKPjeWxL"
      }
    },
    {
      "cell_type": "code",
      "source": [
        "dicionario = {'chave_1': 1,\n",
        "              'chave_2': 2}\n",
        "dicionario"
      ],
      "metadata": {
        "id": "fO6BSSP02lPY",
        "colab": {
          "base_uri": "https://localhost:8080/"
        },
        "outputId": "77c3d08e-051e-431d-a2c8-2d1571086775"
      },
      "execution_count": null,
      "outputs": [
        {
          "output_type": "execute_result",
          "data": {
            "text/plain": [
              "{'chave_1': 1, 'chave_2': 2}"
            ]
          },
          "metadata": {},
          "execution_count": 1
        }
      ]
    },
    {
      "cell_type": "markdown",
      "source": [
        "---\n",
        "**Situação:**\n",
        "\n",
        "Vamos criar um conjunto de dados com informações de matricula de um estudante. Os dados são os seguintes:\n",
        "\n",
        "- matricula: 2000168933\n",
        "- dia de cadastro: 25\n",
        "- mês de cadastro: 10\n",
        "- turma: 2E"
      ],
      "metadata": {
        "id": "_JbQ3KMKfkXU"
      }
    },
    {
      "cell_type": "code",
      "source": [
        "cadastro = {\n",
        "    'matricula': 2000168933,\n",
        "    'dia': 25,\n",
        "    'mes': 10,\n",
        "    'turma': '2E'\n",
        "}\n",
        "\n",
        "cadastro"
      ],
      "metadata": {
        "id": "Q1SKuEXQ2jkL",
        "colab": {
          "base_uri": "https://localhost:8080/"
        },
        "outputId": "361aa3e2-f5d2-4a77-cdad-d3a3d496c6df"
      },
      "execution_count": null,
      "outputs": [
        {
          "output_type": "execute_result",
          "data": {
            "text/plain": [
              "{'matricula': 2000168933, 'dia': 25, 'mes': 10, 'turma': '2E'}"
            ]
          },
          "metadata": {},
          "execution_count": 2
        }
      ]
    },
    {
      "cell_type": "code",
      "source": [
        "cadastro['matricula']"
      ],
      "metadata": {
        "id": "H7oT2M_a2jY5",
        "colab": {
          "base_uri": "https://localhost:8080/"
        },
        "outputId": "6ca2bb5d-0ff6-4f85-9622-4517ae7983b6"
      },
      "execution_count": null,
      "outputs": [
        {
          "output_type": "execute_result",
          "data": {
            "text/plain": [
              "2000168933"
            ]
          },
          "metadata": {},
          "execution_count": 3
        }
      ]
    },
    {
      "cell_type": "code",
      "source": [
        "cadastro['turma']"
      ],
      "metadata": {
        "id": "Mv8we96a2jPR",
        "colab": {
          "base_uri": "https://localhost:8080/",
          "height": 36
        },
        "outputId": "6aae2232-b67e-4671-b03b-46a643e8347e"
      },
      "execution_count": null,
      "outputs": [
        {
          "output_type": "execute_result",
          "data": {
            "text/plain": [
              "'2E'"
            ],
            "application/vnd.google.colaboratory.intrinsic+json": {
              "type": "string"
            }
          },
          "metadata": {},
          "execution_count": 4
        }
      ]
    },
    {
      "cell_type": "markdown",
      "source": [
        "É possível substituir os valores dentro de uma chave. Por exemplo, recebemos a informação que a turma do estudante que cadastramos foi trocada para `'2G'` e agora precisamos trocar o valor da chave `'turma'`."
      ],
      "metadata": {
        "id": "8ex5pt2ykDd2"
      }
    },
    {
      "cell_type": "code",
      "source": [
        "cadastro['turma'] = '2G'\n",
        "cadastro"
      ],
      "metadata": {
        "id": "WqZPkVop2hq-",
        "colab": {
          "base_uri": "https://localhost:8080/"
        },
        "outputId": "2e485ac9-2e51-4c35-d1be-d73f1fe79a01"
      },
      "execution_count": null,
      "outputs": [
        {
          "output_type": "execute_result",
          "data": {
            "text/plain": [
              "{'matricula': 2000168933, 'dia': 25, 'mes': 10, 'turma': '2G'}"
            ]
          },
          "metadata": {},
          "execution_count": 5
        }
      ]
    },
    {
      "cell_type": "markdown",
      "source": [
        "Podemos também adicionar outros dados ao dicionário. Vamos adicionar a informação de modalidade de ensino, nosso estudante atuará inicialmente em modalidade EAD.\n",
        "\n",
        "Então iremos definir uma chave chamada `'modalidade'` e o valor `'EAD'`."
      ],
      "metadata": {
        "id": "wB0qRb56mQvv"
      }
    },
    {
      "cell_type": "code",
      "source": [
        "cadastro['modalidade'] = 'EAD'\n",
        "cadastro"
      ],
      "metadata": {
        "id": "YDbsuNbw2gb2",
        "colab": {
          "base_uri": "https://localhost:8080/"
        },
        "outputId": "0616a1d1-f6aa-4382-a2a3-fde7fd684baa"
      },
      "execution_count": null,
      "outputs": [
        {
          "output_type": "execute_result",
          "data": {
            "text/plain": [
              "{'matricula': 2000168933,\n",
              " 'dia': 25,\n",
              " 'mes': 10,\n",
              " 'turma': '2G',\n",
              " 'modalidade': 'EAD'}"
            ]
          },
          "metadata": {},
          "execution_count": 6
        }
      ]
    },
    {
      "cell_type": "markdown",
      "source": [
        "## Aprofundando em dicionários"
      ],
      "metadata": {
        "id": "LJ3o_inroxg_"
      }
    },
    {
      "cell_type": "markdown",
      "source": [
        "#### [`pop()`](https://python-reference.readthedocs.io/en/latest/docs/dict/pop.html)\n",
        "Remove um item de um dicionário e o retorna."
      ],
      "metadata": {
        "id": "2N3GLlkSpBiu"
      }
    },
    {
      "cell_type": "code",
      "source": [
        "cadastro.pop('turma')"
      ],
      "metadata": {
        "id": "NJKPaN0N2d2G",
        "colab": {
          "base_uri": "https://localhost:8080/",
          "height": 36
        },
        "outputId": "6d64aa65-b5cc-42da-c437-4551da4e9229"
      },
      "execution_count": null,
      "outputs": [
        {
          "output_type": "execute_result",
          "data": {
            "text/plain": [
              "'2G'"
            ],
            "application/vnd.google.colaboratory.intrinsic+json": {
              "type": "string"
            }
          },
          "metadata": {},
          "execution_count": 7
        }
      ]
    },
    {
      "cell_type": "code",
      "source": [
        "cadastro"
      ],
      "metadata": {
        "id": "7XZ7Rl4R2cSF",
        "colab": {
          "base_uri": "https://localhost:8080/"
        },
        "outputId": "bb6528c0-25c5-47cf-8188-20b64984e425"
      },
      "execution_count": null,
      "outputs": [
        {
          "output_type": "execute_result",
          "data": {
            "text/plain": [
              "{'matricula': 2000168933, 'dia': 25, 'mes': 10, 'modalidade': 'EAD'}"
            ]
          },
          "metadata": {},
          "execution_count": 8
        }
      ]
    },
    {
      "cell_type": "markdown",
      "source": [
        "#### [`items()`](https://python-reference.readthedocs.io/en/latest/docs/dict/items.html)\n",
        "Retorna uma lista de pares chave-valor do dicionário."
      ],
      "metadata": {
        "id": "sYZGvJJYrW_y"
      }
    },
    {
      "cell_type": "code",
      "source": [
        "cadastro.items()"
      ],
      "metadata": {
        "id": "rWJG9aZ72a0D",
        "colab": {
          "base_uri": "https://localhost:8080/"
        },
        "outputId": "e548fa67-3ae7-43d7-94ad-67dae206aacd"
      },
      "execution_count": null,
      "outputs": [
        {
          "output_type": "execute_result",
          "data": {
            "text/plain": [
              "dict_items([('matricula', 2000168933), ('dia', 25), ('mes', 10), ('modalidade', 'EAD')])"
            ]
          },
          "metadata": {},
          "execution_count": 9
        }
      ]
    },
    {
      "cell_type": "markdown",
      "source": [
        "#### [`keys()`](https://python-reference.readthedocs.io/en/latest/docs/dict/keys.html)\n",
        "Retorna uma lista das chaves do dicionário."
      ],
      "metadata": {
        "id": "Lb0utNFGrZBY"
      }
    },
    {
      "cell_type": "code",
      "source": [
        "cadastro.keys()"
      ],
      "metadata": {
        "id": "H1WmQRaR2Z-l",
        "colab": {
          "base_uri": "https://localhost:8080/"
        },
        "outputId": "b732c961-38c3-4186-f72a-20e37ab4c852"
      },
      "execution_count": null,
      "outputs": [
        {
          "output_type": "execute_result",
          "data": {
            "text/plain": [
              "dict_keys(['matricula', 'dia', 'mes', 'modalidade'])"
            ]
          },
          "metadata": {},
          "execution_count": 10
        }
      ]
    },
    {
      "cell_type": "markdown",
      "source": [
        "#### [`values()`](https://python-reference.readthedocs.io/en/latest/docs/dict/values.html)\n",
        "Retorna uma lista dos valores do dicionário."
      ],
      "metadata": {
        "id": "qKyu3bf9rbtX"
      }
    },
    {
      "cell_type": "code",
      "source": [
        "cadastro.values()"
      ],
      "metadata": {
        "id": "E5pgDcfQ2ZHH",
        "colab": {
          "base_uri": "https://localhost:8080/"
        },
        "outputId": "37a6064f-0c81-4274-f7c0-ff2036d63d50"
      },
      "execution_count": null,
      "outputs": [
        {
          "output_type": "execute_result",
          "data": {
            "text/plain": [
              "dict_values([2000168933, 25, 10, 'EAD'])"
            ]
          },
          "metadata": {},
          "execution_count": 11
        }
      ]
    },
    {
      "cell_type": "markdown",
      "source": [
        "### Leitura de valores com `for`"
      ],
      "metadata": {
        "id": "e3XVjR8Frp75"
      }
    },
    {
      "cell_type": "code",
      "source": [
        "for chaves in cadastro.keys():\n",
        "  print(cadastro[chaves])"
      ],
      "metadata": {
        "id": "iwIY3hwV2XL5",
        "colab": {
          "base_uri": "https://localhost:8080/"
        },
        "outputId": "d5e4309c-f02f-4cb5-9f5e-dc7ce9f5f47f"
      },
      "execution_count": null,
      "outputs": [
        {
          "output_type": "stream",
          "name": "stdout",
          "text": [
            "2000168933\n",
            "25\n",
            "10\n",
            "EAD\n"
          ]
        }
      ]
    },
    {
      "cell_type": "code",
      "source": [
        "for valores in cadastro.values():\n",
        "  print(valores)"
      ],
      "metadata": {
        "id": "KlEbYjKN2XCy",
        "colab": {
          "base_uri": "https://localhost:8080/"
        },
        "outputId": "a31bd928-28e3-440c-a985-bd160487442f"
      },
      "execution_count": null,
      "outputs": [
        {
          "output_type": "stream",
          "name": "stdout",
          "text": [
            "2000168933\n",
            "25\n",
            "10\n",
            "EAD\n"
          ]
        }
      ]
    },
    {
      "cell_type": "code",
      "source": [
        "for chaves, valores in cadastro.items():\n",
        "  print(f'{chaves}: {valores}')"
      ],
      "metadata": {
        "id": "aiCgk-o42W6u",
        "colab": {
          "base_uri": "https://localhost:8080/"
        },
        "outputId": "4676d0e0-3581-4755-f96b-663ab0fc349b"
      },
      "execution_count": null,
      "outputs": [
        {
          "output_type": "stream",
          "name": "stdout",
          "text": [
            "matricula: 2000168933\n",
            "dia: 25\n",
            "mes: 10\n",
            "modalidade: EAD\n"
          ]
        }
      ]
    },
    {
      "cell_type": "code",
      "source": [
        "for i in cadastro:\n",
        "  print(f'{i}: {cadastro[i]}')"
      ],
      "metadata": {
        "colab": {
          "base_uri": "https://localhost:8080/"
        },
        "id": "ryECowVJuKMl",
        "outputId": "738965a3-a6b5-41b7-cd6d-56db1809ae50"
      },
      "execution_count": null,
      "outputs": [
        {
          "output_type": "stream",
          "name": "stdout",
          "text": [
            "matricula: 2000168933\n",
            "dia: 25\n",
            "mes: 10\n",
            "modalidade: EAD\n"
          ]
        }
      ]
    },
    {
      "cell_type": "code",
      "source": [
        "loja = {'nomes': ['televisão', 'celular', 'notebook', 'geladeira', 'fogão'],\n",
        "        'precos': [2000, 1500, 3500, 4000, 1500]}"
      ],
      "metadata": {
        "id": "ogOgcxZ9u06L"
      },
      "execution_count": null,
      "outputs": []
    },
    {
      "cell_type": "code",
      "source": [
        "for chave, elementos in loja.items():\n",
        "  print(f'Chave: {chave}\\nElementos:')\n",
        "  for dado in elementos:\n",
        "    print(dado)"
      ],
      "metadata": {
        "colab": {
          "base_uri": "https://localhost:8080/"
        },
        "id": "l-N_uLnPu2ND",
        "outputId": "da73be3c-ebbc-4660-ffd1-48a56c974b1c"
      },
      "execution_count": null,
      "outputs": [
        {
          "output_type": "stream",
          "name": "stdout",
          "text": [
            "Chave: nomes\n",
            "Elementos:\n",
            "televisão\n",
            "celular\n",
            "notebook\n",
            "geladeira\n",
            "fogão\n",
            "Chave: precos\n",
            "Elementos:\n",
            "2000\n",
            "1500\n",
            "3500\n",
            "4000\n",
            "1500\n"
          ]
        }
      ]
    },
    {
      "cell_type": "code",
      "source": [
        "precos = [100.0, 400.0, 200.0]\n",
        "soma = sum(precos)\n",
        "soma"
      ],
      "metadata": {
        "colab": {
          "base_uri": "https://localhost:8080/"
        },
        "id": "dEYHBMXtvO3p",
        "outputId": "d7bfee5f-02a3-4c88-c377-b3df5cd8c6f4"
      },
      "execution_count": null,
      "outputs": [
        {
          "output_type": "execute_result",
          "data": {
            "text/plain": [
              "700.0"
            ]
          },
          "metadata": {},
          "execution_count": 23
        }
      ]
    },
    {
      "cell_type": "markdown",
      "source": [
        "### Exercicios"
      ],
      "metadata": {
        "id": "qRrEofI-vVdn"
      }
    },
    {
      "cell_type": "code",
      "source": [
        "# 1) Faça um programa que tenha a seguinte lista contendo os valores de gastos de uma empresa de papel [2172.54, 3701.35, 3518.09, 3456.61, 3249.38, 2840.82, 3891.45, 3075.26, 2317.64, 3219.08].\n",
        "#Com esses valores, faça um programa que calcule a média de gastos. Dica: use as funções built-in sum() e len().\n",
        "\n",
        "# Dados de gastos\n",
        "gastos = [2172.54, 3701.35, 3518.09, 3456.61, 3249.38, 2840.82, 3891.45, 3075.26, 2317.64, 3219.08]\n",
        "\n",
        "# Calculamos a média encontrando o valor total de gastos com sum\n",
        "# e a quantidade total de compras realizadas com len\n",
        "total_gastos = sum(gastos)\n",
        "quantidade_compras = len(gastos)\n",
        "media_gastos = total_gastos / quantidade_compras\n",
        "# Resultado\n",
        "print(f'A média de gastos é {media_gastos} reais.')\n",
        "\n",
        "# 2) Com os mesmos dados da questão anterior, defina quantas compras foram realizadas acima de 3000 reais e calcule a porcentagem quanto ao total de compras.\n",
        "\n",
        "# Dados de gastos\n",
        "gastos = [2172.54, 3701.35, 3518.09, 3456.61, 3249.38, 2840.82, 3891.45, 3075.26, 2317.64, 3219.08]\n",
        "\n",
        "# Variável que vai contar quantas compras foram feitas acima de 3000\n",
        "contador_acima_3000 = 0\n",
        "# Usamos o laço para ler a lista de gastos\n",
        "for gasto in gastos:\n",
        "  # Verificamos se o elemento está acima de 3000\n",
        "  if gasto > 3000:\n",
        "    # Acrescentamos mais um no contador, caso tenha algum valor acima de 3000\n",
        "    contador_acima_3000 += 1\n",
        "\n",
        "# Quantidade Compras\n",
        "# Variável que vai ser utilizada para o cálculo da porcentagem\n",
        "quantidade_compras = len(gastos)\n",
        "\n",
        "\n",
        "# Com a contagem conseguimos calcular a porcentagem de valores acima de 3000 entre todas as compras\n",
        "porcentagem_acima_3000 = 100 * (contador_acima_3000) / (quantidade_compras)\n",
        "\n",
        "# Resultado\n",
        "print(f'{contador_acima_3000} compras foram acima de R$3000,00.')\n",
        "print(f'{porcentagem_acima_3000}% dos gastos foram acima de R$3000,00.')\n",
        "\n",
        "# 3) Faça um código que colete em uma lista 5 números inteiros quaisquer e imprima a lista. Exemplo: [1,4,7,2,4].\n",
        "\n",
        "# Lista que irá armazenar os 5 números inteiros\n",
        "lista_numeros = []\n",
        "\n",
        "# Criamos um laço que vai iterar 5 vezes para receber os 5 números\n",
        "for i in range(0, 5):\n",
        "  # Coletamos o valor e inserimos na lista por 5 vezes\n",
        "  numero = int(input('Digite um número inteiro: '))\n",
        "  lista_numeros.append(numero)\n",
        "#Resultado\n",
        "print(f'Lista de números inseridos: {lista_numeros}')\n",
        "\n",
        "# 4) Colete novamente 5 inteiros e imprima a lista em ordem inversa à enviada.\n",
        "\n",
        "# Lista que irá armazenar os 5 números inteiros\n",
        "lista_numeros = []\n",
        "\n",
        "# Criamos um laço que vai iterar 5 vezes para receber os 5 números\n",
        "for i in range(0, 5):\n",
        "  # Coletamos o valor e inserimos na lista por 5 vezes\n",
        "  numero = int(input('Digite um número inteiro: '))\n",
        "  lista_numeros.append(numero)\n",
        "# Usamos da lógica de partição para imprimir o resultado\n",
        "print(f'Lista de números invertida: {lista_numeros[::-1]}')\n",
        "\n",
        "# 5) Faça um programa que, ao inserir um número qualquer, cria uma lista contendo todos os números primos entre 1 e o número digitado.\n",
        "\n",
        "# Coletamos o números\n",
        "numero = int(input('Digite um número inteiro: '))\n",
        "# Lista para receber os números primos\n",
        "lista_primos = []\n",
        "# Laço que vai rodar por todos os números abaixo do número digitado\n",
        "for num in range(2, numero):\n",
        "  # Primo é uma bandeira, ela permite sabermos se o valor analisado é ou não primo\n",
        "  primo = True\n",
        "  # Testamos se todos os números abaixo do especificado no primeiro laço podem\n",
        "  # gerar uma divisão exata\n",
        "  for teste_divisiveis in range(2, num):\n",
        "    if num % teste_divisiveis == 0:\n",
        "      # Caso seja divisivel por algum número entendemos que\n",
        "      # o num não é primo e finalizamos o laço interno com break\n",
        "      primo = False\n",
        "      break\n",
        "  # A condição se torna o resultado booleno de primo: False, ignoramos o condicional\n",
        "  # True, executamos o bloco do if\n",
        "  if primo:\n",
        "    lista_primos.append(num)\n",
        "# Resultado\n",
        "print(f'Lista de números primos: {lista_primos}')\n",
        "\n",
        "# 6) Escreva um programa que peça uma data informando o dia, mês e ano e determine se ela é válida para uma análise.\n",
        "\n",
        "# Coletamos a data\n",
        "dia = int(input('Digite o dia: '))\n",
        "mes = int(input('Digite o mês: '))\n",
        "ano = int(input('Digite o ano: '))\n",
        "\n",
        "# Análise de fevereiro\n",
        "if mes == 2:\n",
        "  # Verificamos se é ou não um ano bissexto\n",
        "  if ano % 4 == 0 and (ano % 400 == 0 or ano % 100 != 0):\n",
        "    dias_fevereiro = 29\n",
        "  else:\n",
        "    dias_fevereiro = 28\n",
        "  # Verificamos se o dia colocado corresponde ao máximo de dias de fevereiro\n",
        "  if dia >= 1 and dia <= dias_fevereiro:\n",
        "    print('Data válida')\n",
        "  else:\n",
        "    print('Data inválida')\n",
        "# Verificamos meses terminados em 31 dias\n",
        "elif mes in [1, 3, 5, 7, 8, 10, 12]:\n",
        "  if dia >= 1 and dia <= 31:\n",
        "    print('Data válida')\n",
        "  else:\n",
        "    print('Data inválida')\n",
        "# Verificamos meses terminados em 30 dias\n",
        "elif mes in [4, 6, 9, 11]:\n",
        "  if dia >= 1 and dia <= 30:\n",
        "    print('Data válida')\n",
        "  else:\n",
        "    print('Data inválida')\n",
        "# Caso o mês não esteja entre 1 e 12\n",
        "else:\n",
        "\n",
        "# 7) Para um estudo envolvendo o nível de multiplicação de bactérias em uma colônia, foi coletado o número de bactérias por dia (em milhares) e pode ser observado a seguir: [1.2, 2.1, 3.3, 5.0, 7.8, 11.3, 16.6, 25.1, 37.8, 56.9].\n",
        "#Tendo esses valores, faça um código que gere uma lista contendo o percentual de crescimento de bactérias por dia, comparando o número de bactérias em cada dia com o número de bactérias do dia anterior.\n",
        "#Dica: para calcular o percentual de crescimento usamos a seguinte equação: 100 * (amostra_atual - amostra_passada) / (amostra_passada).\n",
        "\n",
        "# Lista de crescimento das bactérias\n",
        "bacterias_colonia = [1.2, 2.1, 3.3, 5.0, 7.8, 11.3, 16.6, 25.1, 37.8, 56.9]\n",
        "# Lista que irá armazenar as porcentagens de crescimento\n",
        "porcentagem_crescimento = []\n",
        "# Vamos percorrer os índices de 1 a 9 para compararmos o valor atual com o passado\n",
        "for i in range(1, len(bacterias_colonia)):\n",
        "  # seguimos o cálculo 100 * (amostra_atual - amostra_passada) / (amostra_passada)\n",
        "  porcentagem = 100 * (bacterias_colonia[i] - bacterias_colonia[i-1]) / (bacterias_colonia[i-1])\n",
        "  # adicionamos o resultado na lista porcentagem_crescimento\n",
        "  porcentagem_crescimento.append(porcentagem)\n",
        "# Resultado\n",
        "print(f'Porcentagens de crescimento:\\n{porcentagem_crescimento}')\n",
        "\n",
        "# 8) Para uma seleção de produtos alimentícios, precisamos separar o conjunto de IDs dados por números inteiros sabendo que os produtos com ID par são doces e os com ID ímpar são amargos.\n",
        "#Monte um código que colete 10 IDs. Depois, calcule e mostre a quantidade de produtos doces e amargos.\n",
        "\n",
        "# Lista que vai receber os valores de IDs\n",
        "ids = []\n",
        "# Variáveis contadoras de doces e amargos\n",
        "doce = 0\n",
        "amargo = 0\n",
        "\n",
        "# Criamos um laço que vai iterar 10 vezes para receber os 10 IDs\n",
        "for i in range(0,10):\n",
        "  # Coletamos o ID e adicionamos o id na lista\n",
        "  ids.append(int(input(f'Digite o {i+1}° ID: ')))\n",
        "\n",
        "# Ler todos os elementos da lista ids e atribuir à id\n",
        "for id in ids:\n",
        "  # Verificamos se os elementos são pares ou ímpares para fazer a contagem\n",
        "  if id % 2 == 0:\n",
        "    doce += 1\n",
        "  else:\n",
        "    amargo += 1\n",
        "\n",
        "# Resultado\n",
        "print(f'Quantidade de produtos doces: {doce}')\n",
        "print(f'Quantidade de produtos amargos: {amargo}')\n",
        "\n",
        "# 9) Desenvolva um programa que informa a nota de um(a) aluno(a) de acordo com suas respostas.\n",
        "#Ele deve pedir a resposta desse(a) aluno(a) para cada questão e é preciso verificar se a resposta foi igual ao gabarito. Cada questão vale um ponto e existem as alternativas A, B, C ou D.\n",
        "\n",
        "# Inicializamos os dados\n",
        "respostas = [] # Lista para receber as respostas\n",
        "# Lista de gabaritos\n",
        "gabarito = ['D', 'A', 'C', 'B', 'A', 'D', 'C', 'C', 'A', 'B']\n",
        "nota = 0 # Irá acumular a nota total\n",
        "\n",
        "# Recebemos as respostas do aluno\n",
        "for i in range(0, 10):\n",
        "  respostas.append(input(f'Insira a resposta da questão {i + 1}: ').upper())\n",
        "\n",
        "# Verificamos se as respostas são iguais e adicionamos à nota\n",
        "for i in range(0,10):\n",
        "  if respostas[i] == gabarito[i]:\n",
        "    nota += 1\n",
        "\n",
        "# Exibindo nota final\n",
        "print(f'Nota final: {nota}')\n",
        "\n",
        "# 10) Um instituto de meteorologia deseja fazer um estudo de temperatura média de cada mês do ano. Para isso, você precisa fazer um código que colete e armazene essas temperaturas médias em uma lista.\n",
        "#Depois, calcule a média anual das temperaturas e mostre todas as temperaturas acima da média anual e em que mês elas ocorreram, mostrando os meses por extenso (Janeiro, Fevereiro, etc.).\n",
        "\n",
        "# Coletamos a lista de temperaturas\n",
        "temperaturas_mensais = []\n",
        "for i in range(0,12):\n",
        "  temperaturas_mensais.append(float(input(f'Digite a média de temperatura do mês {i+1}: ')))\n",
        "# Criamos uma lista auxiliar para os nomes dos meses\n",
        "meses = ['Janeiro', 'Fevereiro', 'Março', 'Abril', 'Maio', 'Junho', 'Julho', 'Agosto', 'Setembro', 'Outubro', 'Novembro', 'Dezembro']\n",
        "# Calculamos a média\n",
        "media_anual = sum(temperaturas_mensais) / len(temperaturas_mensais)\n",
        "\n",
        "#Resultado\n",
        "print('Temperaturas acima da média em: ')\n",
        "for i in range(0,12):\n",
        "  # Verificamos todas as temperaturas de acordo com a média anual\n",
        "  if temperaturas_mensais[i] > media_anual:\n",
        "    # Como os índices dos meses correspondem às temperaturas,\n",
        "    # podemos imprimir eles sob o mesmo índice\n",
        "    print(meses[i])\n",
        "\n",
        "# 11) Uma empresa de e-commerce está interessada em analisar as vendas dos seus produtos. Os dados das vendas foram armazenados em um dicionário:\n",
        "\n",
        "{'Produto A': 300, 'Produto B': 80, 'Produto C': 60,\n",
        " 'Produto D': 200, 'Produto E': 250, 'Produto F': 30}\n",
        "\n",
        "#Escreva um código que calcule o total de vendas e o produto mais vendido.\n",
        "\n",
        "# Dicionário de vendas\n",
        "dados_vendas = {'Produto A': 300, 'Produto B': 80, 'Produto C': 60, 'Produto D': 200, 'Produto E': 250, 'Produto F': 30}\n",
        "\n",
        "# Inicializamos as variáveis\n",
        "total_vendas = 0 # Irá somar todos as vendas\n",
        "produto_mais_vendido = '' # Irá armazenar o nome do produto mais vendido\n",
        "unidades_produto_mais_vendido = 0 # Irá armazenar a maior quantidade vendas\n",
        "\n",
        "# Percorremos os valores de chaves e elementos do dicionário\n",
        "for produto in dados_vendas.keys():\n",
        "  # Somamos o total de vendas\n",
        "  total_vendas += dados_vendas[produto]\n",
        "  # Verificamos se valor de venda atual desing (dados_vendas[produto]) é maior que o valor armazenado em unidades_produto_mais_vendido\n",
        "  # Cada vez que dados_vendas[produto] superar o valor em unidades_produto_mais_vendido,\n",
        "  # a variável unidades_produto_mais_vendido vai ser igual à dados_vendas[produto], atribuindo um novo valor\n",
        "  # De forma similar, produto_mais_vendido também é substituído pelo produto atual\n",
        "  if dados_vendas[produto] > unidades_produto_mais_vendido:\n",
        "    unidades_produto_mais_vendido = dados_vendas[produto]\n",
        "    produto_mais_vendido = produto\n",
        "# Resultados\n",
        "print(f'Total de vendas é {total_vendas}')\n",
        "print(f'{produto_mais_vendido} é o mais vendido')\n",
        "\n",
        "# 12) Uma pesquisa de mercado foi feita para decidir qual design de marca infantil mais agrada as crianças. A pesquisa foi feita e o votos computados podem ser observados abaixo:\n",
        "\n",
        "'''\n",
        "Tabela de votos da marca\n",
        "Design 1 - 1334 votos\n",
        "Design 2 - 982 votos\n",
        "Design 3 - 1751 votos\n",
        "Design 4 - 210 votos\n",
        "Design 5 - 1811 votos\n",
        "'''\n",
        "\n",
        "#Adapte os dados fornecidos para uma estrutura de dicionário. A partir dele, informe o design vencedor e a porcentagem de votos recebidos.\n",
        "\n",
        "# Dicionário de votos por design\n",
        "votos = {'Design 1': 1334, 'Design 2': 982, 'Design 3': 1751, 'Design 4': 210, 'Design 5': 1811}\n",
        "\n",
        "# Inicializamos as variáveis\n",
        "total_votos = 0 # Irá somar todos os votos\n",
        "vencedor = '' # Irá armazenar o nome do design vencedor\n",
        "voto_vencedor = 0 # Irá armazenar a quantidade vencedora de votos\n",
        "\n",
        "# Percorremos os valores de chaves e elementos do dicionário\n",
        "for design, voto_desing in votos.items():\n",
        "  # Somamos o total de votos\n",
        "  total_votos += voto_desing\n",
        "  # Verificamos se o voto do atual desing (voto_desing) é maior que o valor armazenado em voto_vencedor\n",
        "  # Cada vez que voto_desing superar o valor em voto_vencedor,\n",
        "  # a variável voto_vencedor vai ser igual à voto_desing, atribuindo um novo valor\n",
        "  # De forma similar, o vencedor também é substituído pelo design\n",
        "  if voto_desing > voto_vencedor:\n",
        "    voto_vencedor = voto_desing\n",
        "    vencedor = design\n",
        "# Calculamos a porcentagem do design vencedor\n",
        "porcentagem = 100 * (voto_vencedor) / (total_votos)\n",
        "\n",
        "#Resultado\n",
        "print(f'{vencedor} é o vencedor: ')\n",
        "print(f'Porcentagem de votos: {porcentagem}%')\n",
        "\n",
        "# 13) As pessoas colaboradoras de um setor da empresa que você trabalha vão receber um abono correspondente a 10% do salário devido ao ótimo desempenho do time.\n",
        "#O setor financeiro solicitou sua ajuda para a verificação das consequências financeiras que esse abono irá gerar nos recursos.\n",
        "#Assim, foi encaminhada para você uma lista com os salários que receberão o abono: [1172, 1644, 2617, 5130, 5532, 6341, 6650, 7238, 7685, 7782, 7903].\n",
        "#O abono de cada colaborador(a) não pode ser inferior a 200. Em código, transforme cada um dos salários em chaves de um dicionário e o abono de cada salário no elemento.\n",
        "#Depois, informe o total de gastos com o abono, quantos(as) colaboradores(as) receberam o abono mínimo e qual o maior valor de abono fornecido.\n",
        "\n",
        "# Lista de salários\n",
        "salarios = [1172, 1644, 2617, 5130, 5532, 6341, 6650, 7238, 7685, 7782, 7903]\n",
        "# Inicializamos as variáveis\n",
        "dic_abonos = {} # Dicionário de abonos\n",
        "total_abono = 0 # Irá somar todos os gastos com abono\n",
        "abonos_minimo = 0 # Irá armazenar a quantidade de abonos mínimos\n",
        "maior_abono = 0 # Irá armazenar o maior valor de abono\n",
        "\n",
        "# Percorremos toda a lista de salários\n",
        "for salario in salarios:\n",
        "  # Calculamos o valor teórico de abono\n",
        "  abono = salario * 0.1\n",
        "  # Caso o abono seja inferior a 200,\n",
        "  # ajustamos o valor de abono para o mínimo (200)\n",
        "  if abono < 200:\n",
        "    abono = 200\n",
        "  # Adicionamos um novo dado no dicionário chave abono\n",
        "  dic_abonos[salario] = abono\n",
        "\n",
        "# Percorremos todos os valores do dicionário de abonos\n",
        "for abono in dic_abonos.values():\n",
        "  # Contamos o salário minimo\n",
        "  if abono == 200:\n",
        "    abonos_minimo += 1\n",
        "  # Verificamos se o abono lido é maior que o valor armazenado em maior_abono\n",
        "  # Cada vez que o abono superar o valor de maior_abono,\n",
        "  # a variável maior_abono vai ser igual à abono, atribuindo um novo valor\n",
        "  if abono > maior_abono:\n",
        "    maior_abono = abono\n",
        "  # Somamos os abonos\n",
        "  total_abono += abono\n",
        "# Resultados\n",
        "print(f'Abonos: {dic_abonos}')\n",
        "print(f'Total de gasto com abonos: {total_abono}')\n",
        "print(f'Número de funcionários que receberam o abono mínimo: {abonos_minimo}')\n",
        "print(f'Maior valor de abono: {maior_abono}')\n",
        "\n",
        "# 14) Uma equipe de cientistas de dados está estudando a diversidade biológica em uma floresta. A equipe fez a coleta de informações sobre o número de espécies de plantas e animais em cada área dessa floresta e armazenou essas informações em um dicionário.\n",
        "#Nele, a chave descreve a área dos dados e os valores nas listas correspondem às espécies de plantas e animais nas áreas, respectivamente.\n",
        "\n",
        "{'Área Norte': [2819, 7236],\n",
        " 'Área Leste': [1440, 9492],\n",
        " 'Área Sul': [5969, 7496],\n",
        " 'Área Oeste': [14446, 49688],\n",
        " 'Área Centro': [22558, 45148]}\n",
        "\n",
        "#Escreva um código para calcular a média de espécies por área e identificar a área com a maior diversidade biológica. Dica: use as funções built-in sum() e len().\n",
        "\n",
        "# Especificamos os dados para um dicionário\n",
        "dados = {'Área Norte': [2819, 7236],\n",
        "         'Área Leste': [1440, 9492],\n",
        "         'Área Sul': [5969, 7496],\n",
        "         'Área Oeste': [14446, 49688],\n",
        "         'Área Centro': [22558, 45148]}\n",
        "# Inicializamos as variáveis\n",
        "soma_media = 0 # Irá somar todas as médias\n",
        "maior_diversidade = '' # Irá armazenar a área com maior diversidade\n",
        "maior_soma = 0 # Irá armazenar a maior soma de espécies\n",
        "# Percorremos os valores de chaves e elementos do dicionário\n",
        "for area, especies in dados.items():\n",
        "  # Fazemos a soma do números de espécies em cada área com a função sum\n",
        "  soma_especies = sum(especies)\n",
        "  # Calculamos a média dividindo a soma das espécies pela quantidade de espécies\n",
        "  media = soma_especies / len(especies)\n",
        "  # Imprimimos\n",
        "  print(f'A {area} tem a média de {media} espécies')\n",
        "  # Verificamos se a soma das espécies é maior que o valor armazenado de maior_soma\n",
        "  # Cada vez que a soma_especies superar o valor de maior_soma,\n",
        "  # a variável maior_soma vai ser igual à soma_especies, atribuindo um novo valor\n",
        "  # De forma similar, maior_diversidade também é substituída\n",
        "  if soma_especies > maior_soma:\n",
        "      maior_soma = soma_especies\n",
        "      maior_diversidade = area\n",
        "  # Somamos as médias\n",
        "  soma_media += media\n",
        "# A média total será dada pela soma_media dividida pela quantidade de áreas\n",
        "media_total = soma_media / len(dados)\n",
        "print(f'Média geral de espécies: {media_total}')\n",
        "print(f'Área com a maior diversidade biológica: {maior_diversidade}')\n",
        "\n",
        "# 15) O setor de RH da sua empresa te pediu uma ajuda para analisar as idades de colaboradores(as) de 4 setores da empresa. Para isso, foram fornecidos os seguintes dados:\n",
        "\n",
        "{'Setor A': [22, 26, 30, 30, 35, 38, 40, 56, 57, 65],\n",
        " 'Setor B': [22, 24, 26, 33, 41, 49, 50, 54, 60, 64],\n",
        " 'Setor C': [23, 26, 26, 29, 34, 35, 36, 41, 52, 56],\n",
        " 'Setor D': [19, 20, 25, 27, 34, 39, 42, 44, 50, 65]}\n",
        "\n",
        "#Sabendo que cada setor tem 10 colaboradores(as), construa um código que calcule a média de idade de cada setor, a idade média geral entre todos os setores e quantas pessoas estão acima da idade média geral.\n",
        "\n",
        "# Especificamos os dados para um dicionário\n",
        "dados = {'Setor A': [22, 26, 30, 30, 35, 38, 40, 56, 57, 65],\n",
        "        'Setor B': [22, 24, 26, 33, 41, 49, 50, 54, 60, 64],\n",
        "        'Setor C': [23, 26, 26, 29, 34, 35, 36, 41, 52, 56],\n",
        "        'Setor D': [19, 20, 25, 27, 34, 39, 42, 44, 50, 65]}\n",
        "# Inicializamos a variável que irá somar todas as idades\n",
        "total_idades = 0\n",
        "# Percorremos os valores de chaves e elementos do dicionário\n",
        "for setor, idades in dados.items():\n",
        "  # Calculamos a média dividindo a soma das idades pela quantidade funcionários em cada setor\n",
        "  media_idade = sum(idades) / len(idades)\n",
        "  # Imprimimos\n",
        "  print(f'O {setor} tem a média de {media_idade}')\n",
        "  # Somamos as médias\n",
        "  total_idades += sum(idades)\n",
        "# A média total será dada pela total_idades dividida pela quantidade de pessoas totais (setores * funcionários por setor)\n",
        "media_total = total_idades / (len(idades) * len(dados))\n",
        "print(f'A média de idade geral é {media_total}')\n",
        "\n",
        "# Inicializamos a variável que irá contar todas pessoas com idade acima da média\n",
        "acima_media = 0\n",
        "# Percorremos novamente os valores de chaves e elementos do dicionário\n",
        "for setor, idades in dados.items():\n",
        "  # Lemos os elementos (idades) dentro de cada lista de idades no dicionário\n",
        "  for id in idades:\n",
        "    # Verificamos se o valor da idade é superior à média total\n",
        "    if id > media_total:\n",
        "      # Caso o valor da idade seja superior à média, incrementamos mais um no contador\n",
        "      acima_media += 1\n",
        "# Resultado\n",
        "print(f'{acima_media} pessoas estão acima da idade média geral')"
      ],
      "metadata": {
        "id": "_T7PvPldvYTs"
      },
      "execution_count": null,
      "outputs": []
    }
  ]
}